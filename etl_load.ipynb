{
 "cells": [
  {
   "cell_type": "markdown",
   "id": "ad6b5d79",
   "metadata": {},
   "source": [
    "# ETL Load"
   ]
  },
  {
   "cell_type": "markdown",
   "id": "a3e20a44",
   "metadata": {},
   "source": [
    "## Modules"
   ]
  },
  {
   "cell_type": "code",
   "execution_count": 1,
   "id": "490604bb",
   "metadata": {},
   "outputs": [],
   "source": [
    "import pandas as pd\n",
    "import sqlite3"
   ]
  },
  {
   "cell_type": "markdown",
   "id": "7aaa18df",
   "metadata": {},
   "source": [
    "## Preamble"
   ]
  },
  {
   "cell_type": "markdown",
   "id": "b8af702d",
   "metadata": {},
   "source": [
    "Loading the transformed CSV files as Pandas dataframes."
   ]
  },
  {
   "cell_type": "code",
   "execution_count": 2,
   "id": "92598106",
   "metadata": {},
   "outputs": [],
   "source": [
    "# Loading the transformed files\n",
    "df_full = pd.read_csv(\"transformed/transformed_full.csv\")\n",
    "df_incremental = pd.read_csv(\"transformed/transformed_incremental.csv\")"
   ]
  },
  {
   "cell_type": "markdown",
   "id": "19fb035f",
   "metadata": {},
   "source": [
    "Observing the data inside the transformed CSV files"
   ]
  },
  {
   "cell_type": "code",
   "execution_count": 3,
   "id": "0687d23b",
   "metadata": {},
   "outputs": [
    {
     "data": {
      "text/html": [
       "<div>\n",
       "<style scoped>\n",
       "    .dataframe tbody tr th:only-of-type {\n",
       "        vertical-align: middle;\n",
       "    }\n",
       "\n",
       "    .dataframe tbody tr th {\n",
       "        vertical-align: top;\n",
       "    }\n",
       "\n",
       "    .dataframe thead th {\n",
       "        text-align: right;\n",
       "    }\n",
       "</style>\n",
       "<table border=\"1\" class=\"dataframe\">\n",
       "  <thead>\n",
       "    <tr style=\"text-align: right;\">\n",
       "      <th></th>\n",
       "      <th>customer_name</th>\n",
       "      <th>product</th>\n",
       "      <th>quantity</th>\n",
       "      <th>unit_price</th>\n",
       "      <th>order_date</th>\n",
       "      <th>region</th>\n",
       "      <th>total_price</th>\n",
       "    </tr>\n",
       "  </thead>\n",
       "  <tbody>\n",
       "    <tr>\n",
       "      <th>0</th>\n",
       "      <td>Diana</td>\n",
       "      <td>Tablet</td>\n",
       "      <td>2</td>\n",
       "      <td>500</td>\n",
       "      <td>20 January 2024</td>\n",
       "      <td>South</td>\n",
       "      <td>1000</td>\n",
       "    </tr>\n",
       "    <tr>\n",
       "      <th>1</th>\n",
       "      <td>Eve</td>\n",
       "      <td>Laptop</td>\n",
       "      <td>2</td>\n",
       "      <td>500</td>\n",
       "      <td>29 April 2024</td>\n",
       "      <td>North</td>\n",
       "      <td>1000</td>\n",
       "    </tr>\n",
       "    <tr>\n",
       "      <th>2</th>\n",
       "      <td>Charlie</td>\n",
       "      <td>Laptop</td>\n",
       "      <td>2</td>\n",
       "      <td>250</td>\n",
       "      <td>08 January 2024</td>\n",
       "      <td>South</td>\n",
       "      <td>500</td>\n",
       "    </tr>\n",
       "    <tr>\n",
       "      <th>3</th>\n",
       "      <td>Eve</td>\n",
       "      <td>Laptop</td>\n",
       "      <td>2</td>\n",
       "      <td>750</td>\n",
       "      <td>07 January 2024</td>\n",
       "      <td>West</td>\n",
       "      <td>1500</td>\n",
       "    </tr>\n",
       "    <tr>\n",
       "      <th>4</th>\n",
       "      <td>Eve</td>\n",
       "      <td>Tablet</td>\n",
       "      <td>3</td>\n",
       "      <td>500</td>\n",
       "      <td>07 March 2024</td>\n",
       "      <td>South</td>\n",
       "      <td>1500</td>\n",
       "    </tr>\n",
       "  </tbody>\n",
       "</table>\n",
       "</div>"
      ],
      "text/plain": [
       "  customer_name product  quantity  unit_price       order_date region  \\\n",
       "0         Diana  Tablet         2         500  20 January 2024  South   \n",
       "1           Eve  Laptop         2         500    29 April 2024  North   \n",
       "2       Charlie  Laptop         2         250  08 January 2024  South   \n",
       "3           Eve  Laptop         2         750  07 January 2024   West   \n",
       "4           Eve  Tablet         3         500    07 March 2024  South   \n",
       "\n",
       "   total_price  \n",
       "0         1000  \n",
       "1         1000  \n",
       "2          500  \n",
       "3         1500  \n",
       "4         1500  "
      ]
     },
     "execution_count": 3,
     "metadata": {},
     "output_type": "execute_result"
    }
   ],
   "source": [
    "# Displaying the full and incremental transformed dataframes\n",
    "df_full.head()"
   ]
  },
  {
   "cell_type": "code",
   "execution_count": 4,
   "id": "5f88b3d1",
   "metadata": {},
   "outputs": [
    {
     "data": {
      "text/html": [
       "<div>\n",
       "<style scoped>\n",
       "    .dataframe tbody tr th:only-of-type {\n",
       "        vertical-align: middle;\n",
       "    }\n",
       "\n",
       "    .dataframe tbody tr th {\n",
       "        vertical-align: top;\n",
       "    }\n",
       "\n",
       "    .dataframe thead th {\n",
       "        text-align: right;\n",
       "    }\n",
       "</style>\n",
       "<table border=\"1\" class=\"dataframe\">\n",
       "  <thead>\n",
       "    <tr style=\"text-align: right;\">\n",
       "      <th></th>\n",
       "      <th>customer_name</th>\n",
       "      <th>product</th>\n",
       "      <th>quantity</th>\n",
       "      <th>unit_price</th>\n",
       "      <th>order_date</th>\n",
       "      <th>region</th>\n",
       "      <th>total_price</th>\n",
       "    </tr>\n",
       "  </thead>\n",
       "  <tbody>\n",
       "    <tr>\n",
       "      <th>0</th>\n",
       "      <td>Alice</td>\n",
       "      <td>Laptop</td>\n",
       "      <td>2</td>\n",
       "      <td>900.0</td>\n",
       "      <td>09 May 2024</td>\n",
       "      <td>Central</td>\n",
       "      <td>1800.0</td>\n",
       "    </tr>\n",
       "    <tr>\n",
       "      <th>1</th>\n",
       "      <td>Heidi</td>\n",
       "      <td>Laptop</td>\n",
       "      <td>1</td>\n",
       "      <td>300.0</td>\n",
       "      <td>07 May 2024</td>\n",
       "      <td>Central</td>\n",
       "      <td>300.0</td>\n",
       "    </tr>\n",
       "    <tr>\n",
       "      <th>2</th>\n",
       "      <td>Heidi</td>\n",
       "      <td>Laptop</td>\n",
       "      <td>1</td>\n",
       "      <td>600.0</td>\n",
       "      <td>04 May 2024</td>\n",
       "      <td>Central</td>\n",
       "      <td>600.0</td>\n",
       "    </tr>\n",
       "    <tr>\n",
       "      <th>3</th>\n",
       "      <td>Heidi</td>\n",
       "      <td>Tablet</td>\n",
       "      <td>2</td>\n",
       "      <td>300.0</td>\n",
       "      <td>26 May 2024</td>\n",
       "      <td>Central</td>\n",
       "      <td>600.0</td>\n",
       "    </tr>\n",
       "    <tr>\n",
       "      <th>4</th>\n",
       "      <td>Heidi</td>\n",
       "      <td>Tablet</td>\n",
       "      <td>2</td>\n",
       "      <td>600.0</td>\n",
       "      <td>21 May 2024</td>\n",
       "      <td>North</td>\n",
       "      <td>1200.0</td>\n",
       "    </tr>\n",
       "  </tbody>\n",
       "</table>\n",
       "</div>"
      ],
      "text/plain": [
       "  customer_name product  quantity  unit_price   order_date   region  \\\n",
       "0         Alice  Laptop         2       900.0  09 May 2024  Central   \n",
       "1         Heidi  Laptop         1       300.0  07 May 2024  Central   \n",
       "2         Heidi  Laptop         1       600.0  04 May 2024  Central   \n",
       "3         Heidi  Tablet         2       300.0  26 May 2024  Central   \n",
       "4         Heidi  Tablet         2       600.0  21 May 2024    North   \n",
       "\n",
       "   total_price  \n",
       "0       1800.0  \n",
       "1        300.0  \n",
       "2        600.0  \n",
       "3        600.0  \n",
       "4       1200.0  "
      ]
     },
     "execution_count": 4,
     "metadata": {},
     "output_type": "execute_result"
    }
   ],
   "source": [
    "df_incremental.head()"
   ]
  },
  {
   "cell_type": "markdown",
   "id": "a5844fd1",
   "metadata": {},
   "source": [
    "## Loading to SQLite Database"
   ]
  },
  {
   "cell_type": "markdown",
   "id": "1ad75b30",
   "metadata": {},
   "source": [
    "### Connecting to SQLite"
   ]
  },
  {
   "cell_type": "code",
   "execution_count": 5,
   "id": "633ab232",
   "metadata": {},
   "outputs": [],
   "source": [
    "# Creating the connections\n",
    "full_conn = sqlite3.connect(\"loaded/full_data.db\")\n",
    "incremental_conn = sqlite3.connect(\"loaded/incremental_data.db\")"
   ]
  },
  {
   "cell_type": "markdown",
   "id": "28f12717",
   "metadata": {},
   "source": [
    "### Creating the Databases and Tables"
   ]
  },
  {
   "cell_type": "code",
   "execution_count": 6,
   "id": "cdbd4dd3",
   "metadata": {},
   "outputs": [
    {
     "data": {
      "text/plain": [
       "10"
      ]
     },
     "execution_count": 6,
     "metadata": {},
     "output_type": "execute_result"
    }
   ],
   "source": [
    "# Creating the databases and tables\n",
    "df_full.to_sql(\"full_data\", con=full_conn, if_exists=\"replace\", index=False)\n",
    "df_incremental.to_sql(\"incremental_data\", con=incremental_conn, if_exists=\"replace\", index=False)"
   ]
  },
  {
   "cell_type": "markdown",
   "id": "ff1d267b",
   "metadata": {},
   "source": [
    "### Previewing Stored Data"
   ]
  },
  {
   "cell_type": "code",
   "execution_count": 7,
   "id": "55a01617",
   "metadata": {},
   "outputs": [
    {
     "data": {
      "text/html": [
       "<div>\n",
       "<style scoped>\n",
       "    .dataframe tbody tr th:only-of-type {\n",
       "        vertical-align: middle;\n",
       "    }\n",
       "\n",
       "    .dataframe tbody tr th {\n",
       "        vertical-align: top;\n",
       "    }\n",
       "\n",
       "    .dataframe thead th {\n",
       "        text-align: right;\n",
       "    }\n",
       "</style>\n",
       "<table border=\"1\" class=\"dataframe\">\n",
       "  <thead>\n",
       "    <tr style=\"text-align: right;\">\n",
       "      <th></th>\n",
       "      <th>customer_name</th>\n",
       "      <th>product</th>\n",
       "      <th>quantity</th>\n",
       "      <th>unit_price</th>\n",
       "      <th>order_date</th>\n",
       "      <th>region</th>\n",
       "      <th>total_price</th>\n",
       "    </tr>\n",
       "  </thead>\n",
       "  <tbody>\n",
       "    <tr>\n",
       "      <th>0</th>\n",
       "      <td>Diana</td>\n",
       "      <td>Tablet</td>\n",
       "      <td>2</td>\n",
       "      <td>500</td>\n",
       "      <td>20 January 2024</td>\n",
       "      <td>South</td>\n",
       "      <td>1000</td>\n",
       "    </tr>\n",
       "    <tr>\n",
       "      <th>1</th>\n",
       "      <td>Eve</td>\n",
       "      <td>Laptop</td>\n",
       "      <td>2</td>\n",
       "      <td>500</td>\n",
       "      <td>29 April 2024</td>\n",
       "      <td>North</td>\n",
       "      <td>1000</td>\n",
       "    </tr>\n",
       "    <tr>\n",
       "      <th>2</th>\n",
       "      <td>Charlie</td>\n",
       "      <td>Laptop</td>\n",
       "      <td>2</td>\n",
       "      <td>250</td>\n",
       "      <td>08 January 2024</td>\n",
       "      <td>South</td>\n",
       "      <td>500</td>\n",
       "    </tr>\n",
       "    <tr>\n",
       "      <th>3</th>\n",
       "      <td>Eve</td>\n",
       "      <td>Laptop</td>\n",
       "      <td>2</td>\n",
       "      <td>750</td>\n",
       "      <td>07 January 2024</td>\n",
       "      <td>West</td>\n",
       "      <td>1500</td>\n",
       "    </tr>\n",
       "    <tr>\n",
       "      <th>4</th>\n",
       "      <td>Eve</td>\n",
       "      <td>Tablet</td>\n",
       "      <td>3</td>\n",
       "      <td>500</td>\n",
       "      <td>07 March 2024</td>\n",
       "      <td>South</td>\n",
       "      <td>1500</td>\n",
       "    </tr>\n",
       "  </tbody>\n",
       "</table>\n",
       "</div>"
      ],
      "text/plain": [
       "  customer_name product  quantity  unit_price       order_date region  \\\n",
       "0         Diana  Tablet         2         500  20 January 2024  South   \n",
       "1           Eve  Laptop         2         500    29 April 2024  North   \n",
       "2       Charlie  Laptop         2         250  08 January 2024  South   \n",
       "3           Eve  Laptop         2         750  07 January 2024   West   \n",
       "4           Eve  Tablet         3         500    07 March 2024  South   \n",
       "\n",
       "   total_price  \n",
       "0         1000  \n",
       "1         1000  \n",
       "2          500  \n",
       "3         1500  \n",
       "4         1500  "
      ]
     },
     "execution_count": 7,
     "metadata": {},
     "output_type": "execute_result"
    }
   ],
   "source": [
    "# Previewing the data using SQL Queries\n",
    "df_full_loaded = pd.read_sql_query(\"SELECT * FROM full_data LIMIT 5\", full_conn)\n",
    "df_full_loaded"
   ]
  },
  {
   "cell_type": "code",
   "execution_count": 8,
   "id": "ac07feea",
   "metadata": {},
   "outputs": [
    {
     "data": {
      "text/html": [
       "<div>\n",
       "<style scoped>\n",
       "    .dataframe tbody tr th:only-of-type {\n",
       "        vertical-align: middle;\n",
       "    }\n",
       "\n",
       "    .dataframe tbody tr th {\n",
       "        vertical-align: top;\n",
       "    }\n",
       "\n",
       "    .dataframe thead th {\n",
       "        text-align: right;\n",
       "    }\n",
       "</style>\n",
       "<table border=\"1\" class=\"dataframe\">\n",
       "  <thead>\n",
       "    <tr style=\"text-align: right;\">\n",
       "      <th></th>\n",
       "      <th>customer_name</th>\n",
       "      <th>product</th>\n",
       "      <th>quantity</th>\n",
       "      <th>unit_price</th>\n",
       "      <th>order_date</th>\n",
       "      <th>region</th>\n",
       "      <th>total_price</th>\n",
       "    </tr>\n",
       "  </thead>\n",
       "  <tbody>\n",
       "    <tr>\n",
       "      <th>0</th>\n",
       "      <td>Alice</td>\n",
       "      <td>Laptop</td>\n",
       "      <td>2</td>\n",
       "      <td>900.0</td>\n",
       "      <td>09 May 2024</td>\n",
       "      <td>Central</td>\n",
       "      <td>1800.0</td>\n",
       "    </tr>\n",
       "    <tr>\n",
       "      <th>1</th>\n",
       "      <td>Heidi</td>\n",
       "      <td>Laptop</td>\n",
       "      <td>1</td>\n",
       "      <td>300.0</td>\n",
       "      <td>07 May 2024</td>\n",
       "      <td>Central</td>\n",
       "      <td>300.0</td>\n",
       "    </tr>\n",
       "    <tr>\n",
       "      <th>2</th>\n",
       "      <td>Heidi</td>\n",
       "      <td>Laptop</td>\n",
       "      <td>1</td>\n",
       "      <td>600.0</td>\n",
       "      <td>04 May 2024</td>\n",
       "      <td>Central</td>\n",
       "      <td>600.0</td>\n",
       "    </tr>\n",
       "    <tr>\n",
       "      <th>3</th>\n",
       "      <td>Heidi</td>\n",
       "      <td>Tablet</td>\n",
       "      <td>2</td>\n",
       "      <td>300.0</td>\n",
       "      <td>26 May 2024</td>\n",
       "      <td>Central</td>\n",
       "      <td>600.0</td>\n",
       "    </tr>\n",
       "    <tr>\n",
       "      <th>4</th>\n",
       "      <td>Heidi</td>\n",
       "      <td>Tablet</td>\n",
       "      <td>2</td>\n",
       "      <td>600.0</td>\n",
       "      <td>21 May 2024</td>\n",
       "      <td>North</td>\n",
       "      <td>1200.0</td>\n",
       "    </tr>\n",
       "  </tbody>\n",
       "</table>\n",
       "</div>"
      ],
      "text/plain": [
       "  customer_name product  quantity  unit_price   order_date   region  \\\n",
       "0         Alice  Laptop         2       900.0  09 May 2024  Central   \n",
       "1         Heidi  Laptop         1       300.0  07 May 2024  Central   \n",
       "2         Heidi  Laptop         1       600.0  04 May 2024  Central   \n",
       "3         Heidi  Tablet         2       300.0  26 May 2024  Central   \n",
       "4         Heidi  Tablet         2       600.0  21 May 2024    North   \n",
       "\n",
       "   total_price  \n",
       "0       1800.0  \n",
       "1        300.0  \n",
       "2        600.0  \n",
       "3        600.0  \n",
       "4       1200.0  "
      ]
     },
     "execution_count": 8,
     "metadata": {},
     "output_type": "execute_result"
    }
   ],
   "source": [
    "df_incremental_loaded = pd.read_sql_query(\"SELECT * FROM incremental_data LIMIT 5\", incremental_conn)\n",
    "df_incremental_loaded"
   ]
  },
  {
   "cell_type": "markdown",
   "id": "fa8f0104",
   "metadata": {},
   "source": [
    "### Closing the Connections"
   ]
  },
  {
   "cell_type": "code",
   "execution_count": 9,
   "id": "d67731f3",
   "metadata": {},
   "outputs": [],
   "source": [
    "# Closing connections\n",
    "full_conn.close()\n",
    "incremental_conn.close()"
   ]
  }
 ],
 "metadata": {
  "kernelspec": {
   "display_name": ".venv",
   "language": "python",
   "name": "python3"
  },
  "language_info": {
   "codemirror_mode": {
    "name": "ipython",
    "version": 3
   },
   "file_extension": ".py",
   "mimetype": "text/x-python",
   "name": "python",
   "nbconvert_exporter": "python",
   "pygments_lexer": "ipython3",
   "version": "3.12.3"
  }
 },
 "nbformat": 4,
 "nbformat_minor": 5
}
