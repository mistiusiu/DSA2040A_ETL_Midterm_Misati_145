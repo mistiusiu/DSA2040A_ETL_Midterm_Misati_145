{
 "cells": [
  {
   "cell_type": "markdown",
   "id": "76a5cb9f",
   "metadata": {},
   "source": [
    "# ETL Transform"
   ]
  },
  {
   "cell_type": "markdown",
   "id": "7d13159b",
   "metadata": {},
   "source": [
    "## Modules"
   ]
  },
  {
   "cell_type": "code",
   "execution_count": 1,
   "id": "c62ff7ee",
   "metadata": {},
   "outputs": [],
   "source": [
    "# Importing the needed modules\n",
    "import pandas as pd\n",
    "import numpy as np\n",
    "import plotly.figure_factory as ff\n",
    "import scipy"
   ]
  },
  {
   "cell_type": "markdown",
   "id": "c9aa3dc3",
   "metadata": {},
   "source": [
    "## Preamble"
   ]
  },
  {
   "cell_type": "markdown",
   "id": "c4cb53a2",
   "metadata": {},
   "source": [
    "Loading the raw CSV files as pandas dataframes."
   ]
  },
  {
   "cell_type": "code",
   "execution_count": 2,
   "id": "b17c00d6",
   "metadata": {},
   "outputs": [],
   "source": [
    "# Loading the raw_data.csv and incremental_data.csv files into pandas dataframes\n",
    "df_full = pd.read_csv(\"data/raw_data.csv\")\n",
    "df_incremental = pd.read_csv(\"data/incremental_data.csv\")"
   ]
  },
  {
   "cell_type": "markdown",
   "id": "a4874c9e",
   "metadata": {},
   "source": [
    "## Helper Functions"
   ]
  },
  {
   "cell_type": "code",
   "execution_count": 3,
   "id": "2db171b0",
   "metadata": {},
   "outputs": [],
   "source": [
    "# Saving to a CSV file\n",
    "def save_to_csv(df, filename):\n",
    "    \"\"\"\n",
    "    Write the pandas DataFrame to a CSV file.\n",
    "    \"\"\"\n",
    "    df.to_csv(filename, index=False)"
   ]
  },
  {
   "cell_type": "code",
   "execution_count": 4,
   "id": "fc916c2f",
   "metadata": {},
   "outputs": [],
   "source": [
    "# Handling missing values using imputation\n",
    "def handling_missing_values_with_viz(df, show_viz=True):\n",
    "    \"\"\"\n",
    "    Impute missing values with optional visualizations.\n",
    "    \"\"\"\n",
    "    df = df.copy()\n",
    "    figures = {}\n",
    "\n",
    "    for col in df.columns:\n",
    "        series = df[col]\n",
    "        if series.isnull().any():\n",
    "            if pd.api.types.is_numeric_dtype(series):\n",
    "                clean = series.dropna()\n",
    "                is_int_col = clean.map(float.is_integer).all()\n",
    "                skewness = clean.skew()\n",
    "                fill_val = clean.mean() if abs(skewness) < 0.5 else clean.median()\n",
    "                \n",
    "                if is_int_col:\n",
    "                    fill_val = int(round(fill_val))\n",
    "                \n",
    "                df[col] = series.fillna(fill_val)\n",
    "\n",
    "                if is_int_col:\n",
    "                    df[col] = df[col].astype('Int64')\n",
    "            else:\n",
    "                modes = series.mode()\n",
    "                if not modes.empty:\n",
    "                    df[col] = series.fillna(modes[0])\n",
    "\n",
    "        # Plot numeric columns\n",
    "        if show_viz and pd.api.types.is_numeric_dtype(df[col]):\n",
    "            clean2 = df[col].dropna()\n",
    "            fig = ff.create_distplot([clean2], [col],\n",
    "                                     show_hist=True, show_rug=True, show_curve=True)\n",
    "            fig.update_layout(title=f\"{col} distribution (skewness={clean2.skew():.2f})\")\n",
    "            figures[col] = fig\n",
    "\n",
    "    return (df, figures) if show_viz else df"
   ]
  },
  {
   "cell_type": "code",
   "execution_count": 5,
   "id": "e0e312ed",
   "metadata": {},
   "outputs": [],
   "source": [
    "# Handling duplicate values\n",
    "def handle_duplicates(df):\n",
    "    \"\"\"\n",
    "    Locate and drop duplicate rows.\n",
    "    \"\"\"\n",
    "    df = df.drop_duplicates().copy()\n",
    "    return df"
   ]
  },
  {
   "cell_type": "code",
   "execution_count": 6,
   "id": "f3ccc2e9",
   "metadata": {},
   "outputs": [],
   "source": [
    "# Dropping irrelevant columns\n",
    "def drop_irrelevant_columns(df, columns):\n",
    "    \"\"\"\n",
    "    Drop specified columns from the DataFrame.\n",
    "    \"\"\"\n",
    "    df = df.drop(columns=columns, errors='ignore').copy()\n",
    "    return df"
   ]
  },
  {
   "cell_type": "code",
   "execution_count": 7,
   "id": "9fe52892",
   "metadata": {},
   "outputs": [],
   "source": [
    "# Converting the Date Data Type into Text\n",
    "def format_date_column(df, col):\n",
    "    df = df.copy()\n",
    "    df[col] = pd.to_datetime(df[col], errors='coerce')\n",
    "    df[col] = df[col].dt.strftime('%d %B %Y')\n",
    "    return df"
   ]
  },
  {
   "cell_type": "markdown",
   "id": "b196e73f",
   "metadata": {},
   "source": [
    "## Data Observation"
   ]
  },
  {
   "cell_type": "code",
   "execution_count": 8,
   "id": "638691c3",
   "metadata": {},
   "outputs": [
    {
     "data": {
      "text/html": [
       "<div>\n",
       "<style scoped>\n",
       "    .dataframe tbody tr th:only-of-type {\n",
       "        vertical-align: middle;\n",
       "    }\n",
       "\n",
       "    .dataframe tbody tr th {\n",
       "        vertical-align: top;\n",
       "    }\n",
       "\n",
       "    .dataframe thead th {\n",
       "        text-align: right;\n",
       "    }\n",
       "</style>\n",
       "<table border=\"1\" class=\"dataframe\">\n",
       "  <thead>\n",
       "    <tr style=\"text-align: right;\">\n",
       "      <th></th>\n",
       "      <th>order_id</th>\n",
       "      <th>customer_name</th>\n",
       "      <th>product</th>\n",
       "      <th>quantity</th>\n",
       "      <th>unit_price</th>\n",
       "      <th>order_date</th>\n",
       "      <th>region</th>\n",
       "    </tr>\n",
       "  </thead>\n",
       "  <tbody>\n",
       "    <tr>\n",
       "      <th>0</th>\n",
       "      <td>1</td>\n",
       "      <td>Diana</td>\n",
       "      <td>Tablet</td>\n",
       "      <td>NaN</td>\n",
       "      <td>500.0</td>\n",
       "      <td>2024-01-20</td>\n",
       "      <td>South</td>\n",
       "    </tr>\n",
       "    <tr>\n",
       "      <th>1</th>\n",
       "      <td>2</td>\n",
       "      <td>Eve</td>\n",
       "      <td>Laptop</td>\n",
       "      <td>NaN</td>\n",
       "      <td>NaN</td>\n",
       "      <td>2024-04-29</td>\n",
       "      <td>North</td>\n",
       "    </tr>\n",
       "    <tr>\n",
       "      <th>2</th>\n",
       "      <td>3</td>\n",
       "      <td>Charlie</td>\n",
       "      <td>Laptop</td>\n",
       "      <td>2.0</td>\n",
       "      <td>250.0</td>\n",
       "      <td>2024-01-08</td>\n",
       "      <td>NaN</td>\n",
       "    </tr>\n",
       "    <tr>\n",
       "      <th>3</th>\n",
       "      <td>4</td>\n",
       "      <td>Eve</td>\n",
       "      <td>Laptop</td>\n",
       "      <td>2.0</td>\n",
       "      <td>750.0</td>\n",
       "      <td>2024-01-07</td>\n",
       "      <td>West</td>\n",
       "    </tr>\n",
       "    <tr>\n",
       "      <th>4</th>\n",
       "      <td>5</td>\n",
       "      <td>Eve</td>\n",
       "      <td>Tablet</td>\n",
       "      <td>3.0</td>\n",
       "      <td>NaN</td>\n",
       "      <td>2024-03-07</td>\n",
       "      <td>South</td>\n",
       "    </tr>\n",
       "  </tbody>\n",
       "</table>\n",
       "</div>"
      ],
      "text/plain": [
       "   order_id customer_name product  quantity  unit_price  order_date region\n",
       "0         1         Diana  Tablet       NaN       500.0  2024-01-20  South\n",
       "1         2           Eve  Laptop       NaN         NaN  2024-04-29  North\n",
       "2         3       Charlie  Laptop       2.0       250.0  2024-01-08    NaN\n",
       "3         4           Eve  Laptop       2.0       750.0  2024-01-07   West\n",
       "4         5           Eve  Tablet       3.0         NaN  2024-03-07  South"
      ]
     },
     "execution_count": 8,
     "metadata": {},
     "output_type": "execute_result"
    }
   ],
   "source": [
    "# Observe the raw data CSV file\n",
    "df_full.head()"
   ]
  },
  {
   "cell_type": "code",
   "execution_count": 9,
   "id": "4a07bc8a",
   "metadata": {},
   "outputs": [
    {
     "data": {
      "text/html": [
       "<div>\n",
       "<style scoped>\n",
       "    .dataframe tbody tr th:only-of-type {\n",
       "        vertical-align: middle;\n",
       "    }\n",
       "\n",
       "    .dataframe tbody tr th {\n",
       "        vertical-align: top;\n",
       "    }\n",
       "\n",
       "    .dataframe thead th {\n",
       "        text-align: right;\n",
       "    }\n",
       "</style>\n",
       "<table border=\"1\" class=\"dataframe\">\n",
       "  <thead>\n",
       "    <tr style=\"text-align: right;\">\n",
       "      <th></th>\n",
       "      <th>order_id</th>\n",
       "      <th>customer_name</th>\n",
       "      <th>product</th>\n",
       "      <th>quantity</th>\n",
       "      <th>unit_price</th>\n",
       "      <th>order_date</th>\n",
       "      <th>region</th>\n",
       "    </tr>\n",
       "  </thead>\n",
       "  <tbody>\n",
       "    <tr>\n",
       "      <th>0</th>\n",
       "      <td>101</td>\n",
       "      <td>Alice</td>\n",
       "      <td>Laptop</td>\n",
       "      <td>NaN</td>\n",
       "      <td>900.0</td>\n",
       "      <td>2024-05-09</td>\n",
       "      <td>Central</td>\n",
       "    </tr>\n",
       "    <tr>\n",
       "      <th>1</th>\n",
       "      <td>102</td>\n",
       "      <td>NaN</td>\n",
       "      <td>Laptop</td>\n",
       "      <td>1.0</td>\n",
       "      <td>300.0</td>\n",
       "      <td>2024-05-07</td>\n",
       "      <td>Central</td>\n",
       "    </tr>\n",
       "    <tr>\n",
       "      <th>2</th>\n",
       "      <td>103</td>\n",
       "      <td>NaN</td>\n",
       "      <td>Laptop</td>\n",
       "      <td>1.0</td>\n",
       "      <td>600.0</td>\n",
       "      <td>2024-05-04</td>\n",
       "      <td>Central</td>\n",
       "    </tr>\n",
       "    <tr>\n",
       "      <th>3</th>\n",
       "      <td>104</td>\n",
       "      <td>NaN</td>\n",
       "      <td>Tablet</td>\n",
       "      <td>NaN</td>\n",
       "      <td>300.0</td>\n",
       "      <td>2024-05-26</td>\n",
       "      <td>Central</td>\n",
       "    </tr>\n",
       "    <tr>\n",
       "      <th>4</th>\n",
       "      <td>105</td>\n",
       "      <td>Heidi</td>\n",
       "      <td>Tablet</td>\n",
       "      <td>2.0</td>\n",
       "      <td>600.0</td>\n",
       "      <td>2024-05-21</td>\n",
       "      <td>North</td>\n",
       "    </tr>\n",
       "  </tbody>\n",
       "</table>\n",
       "</div>"
      ],
      "text/plain": [
       "   order_id customer_name product  quantity  unit_price  order_date   region\n",
       "0       101         Alice  Laptop       NaN       900.0  2024-05-09  Central\n",
       "1       102           NaN  Laptop       1.0       300.0  2024-05-07  Central\n",
       "2       103           NaN  Laptop       1.0       600.0  2024-05-04  Central\n",
       "3       104           NaN  Tablet       NaN       300.0  2024-05-26  Central\n",
       "4       105         Heidi  Tablet       2.0       600.0  2024-05-21    North"
      ]
     },
     "execution_count": 9,
     "metadata": {},
     "output_type": "execute_result"
    }
   ],
   "source": [
    "# Observe the incremental data CSV file\n",
    "df_incremental.head()"
   ]
  },
  {
   "cell_type": "markdown",
   "id": "9844f295",
   "metadata": {},
   "source": [
    "## Data Cleaning"
   ]
  },
  {
   "cell_type": "markdown",
   "id": "5600454d",
   "metadata": {},
   "source": [
    "As noted in the ETL Extract Jupyter Notebook the `raw_data.csv` file has:\n",
    "\n",
    "- Null values\n",
    "- Duplicate rows\n",
    "\n",
    "The `incremental_data.csv` file has:\n",
    "\n",
    "- Null values\n",
    "\n",
    "Both of them have:\n",
    "\n",
    "- The `order_id` column that should be omitted."
   ]
  },
  {
   "cell_type": "markdown",
   "id": "ec7e5e74",
   "metadata": {},
   "source": [
    "### Raw Data"
   ]
  },
  {
   "cell_type": "markdown",
   "id": "47e380a3",
   "metadata": {},
   "source": [
    "#### Irrelevant Columns"
   ]
  },
  {
   "cell_type": "markdown",
   "id": "bf400b5f",
   "metadata": {},
   "source": [
    "Before irrelevant columns are handled:"
   ]
  },
  {
   "cell_type": "code",
   "execution_count": 10,
   "id": "8e190fcf",
   "metadata": {},
   "outputs": [
    {
     "data": {
      "text/html": [
       "<div>\n",
       "<style scoped>\n",
       "    .dataframe tbody tr th:only-of-type {\n",
       "        vertical-align: middle;\n",
       "    }\n",
       "\n",
       "    .dataframe tbody tr th {\n",
       "        vertical-align: top;\n",
       "    }\n",
       "\n",
       "    .dataframe thead th {\n",
       "        text-align: right;\n",
       "    }\n",
       "</style>\n",
       "<table border=\"1\" class=\"dataframe\">\n",
       "  <thead>\n",
       "    <tr style=\"text-align: right;\">\n",
       "      <th></th>\n",
       "      <th>order_id</th>\n",
       "      <th>customer_name</th>\n",
       "      <th>product</th>\n",
       "      <th>quantity</th>\n",
       "      <th>unit_price</th>\n",
       "      <th>order_date</th>\n",
       "      <th>region</th>\n",
       "    </tr>\n",
       "  </thead>\n",
       "  <tbody>\n",
       "    <tr>\n",
       "      <th>0</th>\n",
       "      <td>1</td>\n",
       "      <td>Diana</td>\n",
       "      <td>Tablet</td>\n",
       "      <td>NaN</td>\n",
       "      <td>500.0</td>\n",
       "      <td>2024-01-20</td>\n",
       "      <td>South</td>\n",
       "    </tr>\n",
       "    <tr>\n",
       "      <th>1</th>\n",
       "      <td>2</td>\n",
       "      <td>Eve</td>\n",
       "      <td>Laptop</td>\n",
       "      <td>NaN</td>\n",
       "      <td>NaN</td>\n",
       "      <td>2024-04-29</td>\n",
       "      <td>North</td>\n",
       "    </tr>\n",
       "  </tbody>\n",
       "</table>\n",
       "</div>"
      ],
      "text/plain": [
       "   order_id customer_name product  quantity  unit_price  order_date region\n",
       "0         1         Diana  Tablet       NaN       500.0  2024-01-20  South\n",
       "1         2           Eve  Laptop       NaN         NaN  2024-04-29  North"
      ]
     },
     "execution_count": 10,
     "metadata": {},
     "output_type": "execute_result"
    }
   ],
   "source": [
    "# Initial state before handling irrelevant columns\n",
    "df_full.head(2)"
   ]
  },
  {
   "cell_type": "markdown",
   "id": "0c1a1f86",
   "metadata": {},
   "source": [
    "To handle irrelevant columns the `order_id` column will be dropped. This column offers no insights when performing data analysis."
   ]
  },
  {
   "cell_type": "code",
   "execution_count": 11,
   "id": "93b4c690",
   "metadata": {},
   "outputs": [],
   "source": [
    "# Handling the irrelevant column\n",
    "df_full = drop_irrelevant_columns(df_full, [\"order_id\"])"
   ]
  },
  {
   "cell_type": "markdown",
   "id": "59ab1a39",
   "metadata": {},
   "source": [
    "After handling the irrelevant column:"
   ]
  },
  {
   "cell_type": "code",
   "execution_count": 12,
   "id": "ce072614",
   "metadata": {},
   "outputs": [
    {
     "data": {
      "text/html": [
       "<div>\n",
       "<style scoped>\n",
       "    .dataframe tbody tr th:only-of-type {\n",
       "        vertical-align: middle;\n",
       "    }\n",
       "\n",
       "    .dataframe tbody tr th {\n",
       "        vertical-align: top;\n",
       "    }\n",
       "\n",
       "    .dataframe thead th {\n",
       "        text-align: right;\n",
       "    }\n",
       "</style>\n",
       "<table border=\"1\" class=\"dataframe\">\n",
       "  <thead>\n",
       "    <tr style=\"text-align: right;\">\n",
       "      <th></th>\n",
       "      <th>customer_name</th>\n",
       "      <th>product</th>\n",
       "      <th>quantity</th>\n",
       "      <th>unit_price</th>\n",
       "      <th>order_date</th>\n",
       "      <th>region</th>\n",
       "    </tr>\n",
       "  </thead>\n",
       "  <tbody>\n",
       "    <tr>\n",
       "      <th>0</th>\n",
       "      <td>Diana</td>\n",
       "      <td>Tablet</td>\n",
       "      <td>NaN</td>\n",
       "      <td>500.0</td>\n",
       "      <td>2024-01-20</td>\n",
       "      <td>South</td>\n",
       "    </tr>\n",
       "    <tr>\n",
       "      <th>1</th>\n",
       "      <td>Eve</td>\n",
       "      <td>Laptop</td>\n",
       "      <td>NaN</td>\n",
       "      <td>NaN</td>\n",
       "      <td>2024-04-29</td>\n",
       "      <td>North</td>\n",
       "    </tr>\n",
       "  </tbody>\n",
       "</table>\n",
       "</div>"
      ],
      "text/plain": [
       "  customer_name product  quantity  unit_price  order_date region\n",
       "0         Diana  Tablet       NaN       500.0  2024-01-20  South\n",
       "1           Eve  Laptop       NaN         NaN  2024-04-29  North"
      ]
     },
     "execution_count": 12,
     "metadata": {},
     "output_type": "execute_result"
    }
   ],
   "source": [
    "# After handling the irrelevant column\n",
    "df_full.head(2)"
   ]
  },
  {
   "cell_type": "markdown",
   "id": "9fe49a01",
   "metadata": {},
   "source": [
    "#### Null Values"
   ]
  },
  {
   "cell_type": "markdown",
   "id": "ea506e75",
   "metadata": {},
   "source": [
    "Before null values are handled:"
   ]
  },
  {
   "cell_type": "code",
   "execution_count": 13,
   "id": "dcea62b7",
   "metadata": {},
   "outputs": [
    {
     "name": "stdout",
     "output_type": "stream",
     "text": [
      "customer_name     1\n",
      "product           0\n",
      "quantity         26\n",
      "unit_price       35\n",
      "order_date        1\n",
      "region           25\n",
      "dtype: int64\n"
     ]
    }
   ],
   "source": [
    "# Initial state before handling null values\n",
    "df_full_null_counts = df_full.isnull().sum()\n",
    "print(df_full_null_counts)"
   ]
  },
  {
   "cell_type": "markdown",
   "id": "2f7c0c29",
   "metadata": {},
   "source": [
    "To handle null values a selection between:\n",
    "\n",
    "- Mean imputation\n",
    "- Median imputation\n",
    "- Mode imputation\n",
    "\n",
    "will be done dependent on the data type and/or distribution.\n",
    "\n",
    "This will ensure that rows with null values will not need to be dropped. Rather, they will align to the data distribution of the pre-existing data."
   ]
  },
  {
   "cell_type": "code",
   "execution_count": 14,
   "id": "89135e40",
   "metadata": {},
   "outputs": [],
   "source": [
    "# Imputing null values with graphing to check skewness\n",
    "df_full, dist_full_figs = handling_missing_values_with_viz(df_full)"
   ]
  },
  {
   "cell_type": "code",
   "execution_count": 15,
   "id": "5a634ac0",
   "metadata": {},
   "outputs": [
    {
     "name": "stdout",
     "output_type": "stream",
     "text": [
      "Plot for 'quantity':\n"
     ]
    },
    {
     "data": {
      "application/vnd.plotly.v1+json": {
       "config": {
        "plotlyServerURL": "https://plot.ly"
       },
       "data": [
        {
         "autobinx": false,
         "histnorm": "probability density",
         "legendgroup": "quantity",
         "marker": {
          "color": "rgb(31, 119, 180)"
         },
         "name": "quantity",
         "opacity": 0.7,
         "type": "histogram",
         "x": {
          "bdata": "AgICAgMCAgMCAQMCAQEBAwIBAgEBAwMCAgMBAgEBAwICAgMDAgICAgECAQIBAgICAgMCAwEBAQIBAwECAgICAwECAQEDAgIBAgICAgIDAgMDAgMBAwICAQICAgIDAwICAQECAw==",
          "dtype": "i1"
         },
         "xaxis": "x",
         "xbins": {
          "end": 3,
          "size": 1,
          "start": 1
         },
         "yaxis": "y"
        },
        {
         "legendgroup": "quantity",
         "marker": {
          "color": "rgb(31, 119, 180)"
         },
         "mode": "lines",
         "name": "quantity",
         "showlegend": false,
         "type": "scatter",
         "x": [
          1,
          1.004,
          1.008,
          1.012,
          1.016,
          1.02,
          1.024,
          1.028,
          1.032,
          1.036,
          1.04,
          1.044,
          1.048,
          1.052,
          1.056,
          1.06,
          1.064,
          1.068,
          1.072,
          1.076,
          1.08,
          1.084,
          1.088,
          1.092,
          1.096,
          1.1,
          1.104,
          1.108,
          1.112,
          1.116,
          1.12,
          1.124,
          1.1280000000000001,
          1.1320000000000001,
          1.1360000000000001,
          1.1400000000000001,
          1.144,
          1.148,
          1.152,
          1.156,
          1.16,
          1.164,
          1.168,
          1.172,
          1.176,
          1.18,
          1.184,
          1.188,
          1.192,
          1.196,
          1.2,
          1.204,
          1.208,
          1.212,
          1.216,
          1.22,
          1.224,
          1.228,
          1.232,
          1.236,
          1.24,
          1.244,
          1.248,
          1.252,
          1.256,
          1.26,
          1.264,
          1.268,
          1.272,
          1.276,
          1.28,
          1.284,
          1.288,
          1.292,
          1.296,
          1.3,
          1.304,
          1.308,
          1.312,
          1.316,
          1.32,
          1.324,
          1.328,
          1.332,
          1.336,
          1.34,
          1.3439999999999999,
          1.3479999999999999,
          1.3519999999999999,
          1.3559999999999999,
          1.3599999999999999,
          1.3639999999999999,
          1.3679999999999999,
          1.3719999999999999,
          1.376,
          1.38,
          1.384,
          1.388,
          1.392,
          1.396,
          1.4,
          1.404,
          1.408,
          1.412,
          1.416,
          1.42,
          1.424,
          1.428,
          1.432,
          1.436,
          1.44,
          1.444,
          1.448,
          1.452,
          1.456,
          1.46,
          1.464,
          1.468,
          1.472,
          1.476,
          1.48,
          1.484,
          1.488,
          1.492,
          1.496,
          1.5,
          1.504,
          1.508,
          1.512,
          1.516,
          1.52,
          1.524,
          1.528,
          1.532,
          1.536,
          1.54,
          1.544,
          1.548,
          1.552,
          1.556,
          1.56,
          1.564,
          1.568,
          1.572,
          1.576,
          1.58,
          1.584,
          1.588,
          1.592,
          1.596,
          1.6,
          1.604,
          1.608,
          1.612,
          1.616,
          1.62,
          1.624,
          1.6280000000000001,
          1.6320000000000001,
          1.6360000000000001,
          1.6400000000000001,
          1.6440000000000001,
          1.6480000000000001,
          1.6520000000000001,
          1.6560000000000001,
          1.6600000000000001,
          1.6640000000000001,
          1.6680000000000001,
          1.6720000000000002,
          1.6760000000000002,
          1.6800000000000002,
          1.6840000000000002,
          1.688,
          1.692,
          1.696,
          1.7,
          1.704,
          1.708,
          1.712,
          1.716,
          1.72,
          1.724,
          1.728,
          1.732,
          1.736,
          1.74,
          1.744,
          1.748,
          1.752,
          1.756,
          1.76,
          1.764,
          1.768,
          1.772,
          1.776,
          1.78,
          1.784,
          1.788,
          1.792,
          1.796,
          1.8,
          1.804,
          1.808,
          1.812,
          1.8159999999999998,
          1.8199999999999998,
          1.8239999999999998,
          1.8279999999999998,
          1.8319999999999999,
          1.8359999999999999,
          1.8399999999999999,
          1.8439999999999999,
          1.8479999999999999,
          1.8519999999999999,
          1.8559999999999999,
          1.8599999999999999,
          1.8639999999999999,
          1.8679999999999999,
          1.8719999999999999,
          1.876,
          1.88,
          1.884,
          1.888,
          1.892,
          1.896,
          1.9,
          1.904,
          1.908,
          1.912,
          1.916,
          1.92,
          1.924,
          1.928,
          1.932,
          1.936,
          1.94,
          1.944,
          1.948,
          1.952,
          1.956,
          1.96,
          1.964,
          1.968,
          1.972,
          1.976,
          1.98,
          1.984,
          1.988,
          1.992,
          1.996,
          2,
          2.004,
          2.008,
          2.012,
          2.016,
          2.02,
          2.024,
          2.028,
          2.032,
          2.036,
          2.04,
          2.044,
          2.048,
          2.052,
          2.056,
          2.06,
          2.064,
          2.068,
          2.072,
          2.076,
          2.08,
          2.084,
          2.088,
          2.092,
          2.096,
          2.1,
          2.104,
          2.108,
          2.112,
          2.116,
          2.12,
          2.124,
          2.128,
          2.1319999999999997,
          2.136,
          2.1399999999999997,
          2.144,
          2.1479999999999997,
          2.152,
          2.1559999999999997,
          2.16,
          2.1639999999999997,
          2.168,
          2.1719999999999997,
          2.176,
          2.1799999999999997,
          2.184,
          2.1879999999999997,
          2.192,
          2.1959999999999997,
          2.2,
          2.2039999999999997,
          2.208,
          2.2119999999999997,
          2.216,
          2.2199999999999998,
          2.224,
          2.2279999999999998,
          2.232,
          2.2359999999999998,
          2.24,
          2.2439999999999998,
          2.248,
          2.252,
          2.2560000000000002,
          2.26,
          2.2640000000000002,
          2.268,
          2.2720000000000002,
          2.276,
          2.2800000000000002,
          2.284,
          2.2880000000000003,
          2.292,
          2.2960000000000003,
          2.3,
          2.3040000000000003,
          2.308,
          2.3120000000000003,
          2.316,
          2.3200000000000003,
          2.324,
          2.3280000000000003,
          2.332,
          2.3360000000000003,
          2.34,
          2.3440000000000003,
          2.348,
          2.3520000000000003,
          2.356,
          2.3600000000000003,
          2.364,
          2.3680000000000003,
          2.372,
          2.376,
          2.38,
          2.384,
          2.388,
          2.392,
          2.396,
          2.4,
          2.404,
          2.408,
          2.412,
          2.416,
          2.42,
          2.424,
          2.428,
          2.432,
          2.436,
          2.44,
          2.444,
          2.448,
          2.452,
          2.456,
          2.46,
          2.464,
          2.468,
          2.472,
          2.476,
          2.48,
          2.484,
          2.488,
          2.492,
          2.496,
          2.5,
          2.504,
          2.508,
          2.512,
          2.516,
          2.52,
          2.524,
          2.528,
          2.532,
          2.536,
          2.54,
          2.544,
          2.548,
          2.552,
          2.556,
          2.56,
          2.564,
          2.568,
          2.572,
          2.576,
          2.58,
          2.584,
          2.588,
          2.592,
          2.596,
          2.6,
          2.604,
          2.608,
          2.612,
          2.616,
          2.62,
          2.624,
          2.628,
          2.6319999999999997,
          2.636,
          2.6399999999999997,
          2.644,
          2.6479999999999997,
          2.652,
          2.6559999999999997,
          2.66,
          2.6639999999999997,
          2.668,
          2.6719999999999997,
          2.676,
          2.6799999999999997,
          2.684,
          2.6879999999999997,
          2.692,
          2.6959999999999997,
          2.7,
          2.7039999999999997,
          2.708,
          2.7119999999999997,
          2.716,
          2.7199999999999998,
          2.724,
          2.7279999999999998,
          2.732,
          2.7359999999999998,
          2.74,
          2.7439999999999998,
          2.748,
          2.752,
          2.7560000000000002,
          2.76,
          2.7640000000000002,
          2.768,
          2.7720000000000002,
          2.776,
          2.7800000000000002,
          2.784,
          2.7880000000000003,
          2.792,
          2.7960000000000003,
          2.8,
          2.8040000000000003,
          2.808,
          2.8120000000000003,
          2.816,
          2.8200000000000003,
          2.824,
          2.8280000000000003,
          2.832,
          2.8360000000000003,
          2.84,
          2.8440000000000003,
          2.848,
          2.8520000000000003,
          2.856,
          2.8600000000000003,
          2.864,
          2.8680000000000003,
          2.872,
          2.876,
          2.88,
          2.884,
          2.888,
          2.892,
          2.896,
          2.9,
          2.904,
          2.908,
          2.912,
          2.916,
          2.92,
          2.924,
          2.928,
          2.932,
          2.936,
          2.94,
          2.944,
          2.948,
          2.952,
          2.956,
          2.96,
          2.964,
          2.968,
          2.972,
          2.976,
          2.98,
          2.984,
          2.988,
          2.992,
          2.996
         ],
         "xaxis": "x",
         "y": {
          "bdata": "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",
          "dtype": "f8"
         },
         "yaxis": "y"
        },
        {
         "legendgroup": "quantity",
         "marker": {
          "color": "rgb(31, 119, 180)",
          "symbol": "line-ns-open"
         },
         "mode": "markers",
         "name": "quantity",
         "showlegend": false,
         "type": "scatter",
         "x": {
          "bdata": "AgICAgMCAgMCAQMCAQEBAwIBAgEBAwMCAgMBAgEBAwICAgMDAgICAgECAQIBAgICAgMCAwEBAQIBAwECAgICAwECAQEDAgIBAgICAgIDAgMDAgMBAwICAQICAgIDAwICAQECAw==",
          "dtype": "i1"
         },
         "xaxis": "x",
         "y": [
          "quantity",
          "quantity",
          "quantity",
          "quantity",
          "quantity",
          "quantity",
          "quantity",
          "quantity",
          "quantity",
          "quantity",
          "quantity",
          "quantity",
          "quantity",
          "quantity",
          "quantity",
          "quantity",
          "quantity",
          "quantity",
          "quantity",
          "quantity",
          "quantity",
          "quantity",
          "quantity",
          "quantity",
          "quantity",
          "quantity",
          "quantity",
          "quantity",
          "quantity",
          "quantity",
          "quantity",
          "quantity",
          "quantity",
          "quantity",
          "quantity",
          "quantity",
          "quantity",
          "quantity",
          "quantity",
          "quantity",
          "quantity",
          "quantity",
          "quantity",
          "quantity",
          "quantity",
          "quantity",
          "quantity",
          "quantity",
          "quantity",
          "quantity",
          "quantity",
          "quantity",
          "quantity",
          "quantity",
          "quantity",
          "quantity",
          "quantity",
          "quantity",
          "quantity",
          "quantity",
          "quantity",
          "quantity",
          "quantity",
          "quantity",
          "quantity",
          "quantity",
          "quantity",
          "quantity",
          "quantity",
          "quantity",
          "quantity",
          "quantity",
          "quantity",
          "quantity",
          "quantity",
          "quantity",
          "quantity",
          "quantity",
          "quantity",
          "quantity",
          "quantity",
          "quantity",
          "quantity",
          "quantity",
          "quantity",
          "quantity",
          "quantity",
          "quantity",
          "quantity",
          "quantity",
          "quantity",
          "quantity",
          "quantity",
          "quantity",
          "quantity",
          "quantity",
          "quantity",
          "quantity",
          "quantity",
          "quantity"
         ],
         "yaxis": "y2"
        }
       ],
       "layout": {
        "barmode": "overlay",
        "hovermode": "closest",
        "legend": {
         "traceorder": "reversed"
        },
        "template": {
         "data": {
          "bar": [
           {
            "error_x": {
             "color": "#2a3f5f"
            },
            "error_y": {
             "color": "#2a3f5f"
            },
            "marker": {
             "line": {
              "color": "#E5ECF6",
              "width": 0.5
             },
             "pattern": {
              "fillmode": "overlay",
              "size": 10,
              "solidity": 0.2
             }
            },
            "type": "bar"
           }
          ],
          "barpolar": [
           {
            "marker": {
             "line": {
              "color": "#E5ECF6",
              "width": 0.5
             },
             "pattern": {
              "fillmode": "overlay",
              "size": 10,
              "solidity": 0.2
             }
            },
            "type": "barpolar"
           }
          ],
          "carpet": [
           {
            "aaxis": {
             "endlinecolor": "#2a3f5f",
             "gridcolor": "white",
             "linecolor": "white",
             "minorgridcolor": "white",
             "startlinecolor": "#2a3f5f"
            },
            "baxis": {
             "endlinecolor": "#2a3f5f",
             "gridcolor": "white",
             "linecolor": "white",
             "minorgridcolor": "white",
             "startlinecolor": "#2a3f5f"
            },
            "type": "carpet"
           }
          ],
          "choropleth": [
           {
            "colorbar": {
             "outlinewidth": 0,
             "ticks": ""
            },
            "type": "choropleth"
           }
          ],
          "contour": [
           {
            "colorbar": {
             "outlinewidth": 0,
             "ticks": ""
            },
            "colorscale": [
             [
              0,
              "#0d0887"
             ],
             [
              0.1111111111111111,
              "#46039f"
             ],
             [
              0.2222222222222222,
              "#7201a8"
             ],
             [
              0.3333333333333333,
              "#9c179e"
             ],
             [
              0.4444444444444444,
              "#bd3786"
             ],
             [
              0.5555555555555556,
              "#d8576b"
             ],
             [
              0.6666666666666666,
              "#ed7953"
             ],
             [
              0.7777777777777778,
              "#fb9f3a"
             ],
             [
              0.8888888888888888,
              "#fdca26"
             ],
             [
              1,
              "#f0f921"
             ]
            ],
            "type": "contour"
           }
          ],
          "contourcarpet": [
           {
            "colorbar": {
             "outlinewidth": 0,
             "ticks": ""
            },
            "type": "contourcarpet"
           }
          ],
          "heatmap": [
           {
            "colorbar": {
             "outlinewidth": 0,
             "ticks": ""
            },
            "colorscale": [
             [
              0,
              "#0d0887"
             ],
             [
              0.1111111111111111,
              "#46039f"
             ],
             [
              0.2222222222222222,
              "#7201a8"
             ],
             [
              0.3333333333333333,
              "#9c179e"
             ],
             [
              0.4444444444444444,
              "#bd3786"
             ],
             [
              0.5555555555555556,
              "#d8576b"
             ],
             [
              0.6666666666666666,
              "#ed7953"
             ],
             [
              0.7777777777777778,
              "#fb9f3a"
             ],
             [
              0.8888888888888888,
              "#fdca26"
             ],
             [
              1,
              "#f0f921"
             ]
            ],
            "type": "heatmap"
           }
          ],
          "histogram": [
           {
            "marker": {
             "pattern": {
              "fillmode": "overlay",
              "size": 10,
              "solidity": 0.2
             }
            },
            "type": "histogram"
           }
          ],
          "histogram2d": [
           {
            "colorbar": {
             "outlinewidth": 0,
             "ticks": ""
            },
            "colorscale": [
             [
              0,
              "#0d0887"
             ],
             [
              0.1111111111111111,
              "#46039f"
             ],
             [
              0.2222222222222222,
              "#7201a8"
             ],
             [
              0.3333333333333333,
              "#9c179e"
             ],
             [
              0.4444444444444444,
              "#bd3786"
             ],
             [
              0.5555555555555556,
              "#d8576b"
             ],
             [
              0.6666666666666666,
              "#ed7953"
             ],
             [
              0.7777777777777778,
              "#fb9f3a"
             ],
             [
              0.8888888888888888,
              "#fdca26"
             ],
             [
              1,
              "#f0f921"
             ]
            ],
            "type": "histogram2d"
           }
          ],
          "histogram2dcontour": [
           {
            "colorbar": {
             "outlinewidth": 0,
             "ticks": ""
            },
            "colorscale": [
             [
              0,
              "#0d0887"
             ],
             [
              0.1111111111111111,
              "#46039f"
             ],
             [
              0.2222222222222222,
              "#7201a8"
             ],
             [
              0.3333333333333333,
              "#9c179e"
             ],
             [
              0.4444444444444444,
              "#bd3786"
             ],
             [
              0.5555555555555556,
              "#d8576b"
             ],
             [
              0.6666666666666666,
              "#ed7953"
             ],
             [
              0.7777777777777778,
              "#fb9f3a"
             ],
             [
              0.8888888888888888,
              "#fdca26"
             ],
             [
              1,
              "#f0f921"
             ]
            ],
            "type": "histogram2dcontour"
           }
          ],
          "mesh3d": [
           {
            "colorbar": {
             "outlinewidth": 0,
             "ticks": ""
            },
            "type": "mesh3d"
           }
          ],
          "parcoords": [
           {
            "line": {
             "colorbar": {
              "outlinewidth": 0,
              "ticks": ""
             }
            },
            "type": "parcoords"
           }
          ],
          "pie": [
           {
            "automargin": true,
            "type": "pie"
           }
          ],
          "scatter": [
           {
            "fillpattern": {
             "fillmode": "overlay",
             "size": 10,
             "solidity": 0.2
            },
            "type": "scatter"
           }
          ],
          "scatter3d": [
           {
            "line": {
             "colorbar": {
              "outlinewidth": 0,
              "ticks": ""
             }
            },
            "marker": {
             "colorbar": {
              "outlinewidth": 0,
              "ticks": ""
             }
            },
            "type": "scatter3d"
           }
          ],
          "scattercarpet": [
           {
            "marker": {
             "colorbar": {
              "outlinewidth": 0,
              "ticks": ""
             }
            },
            "type": "scattercarpet"
           }
          ],
          "scattergeo": [
           {
            "marker": {
             "colorbar": {
              "outlinewidth": 0,
              "ticks": ""
             }
            },
            "type": "scattergeo"
           }
          ],
          "scattergl": [
           {
            "marker": {
             "colorbar": {
              "outlinewidth": 0,
              "ticks": ""
             }
            },
            "type": "scattergl"
           }
          ],
          "scattermap": [
           {
            "marker": {
             "colorbar": {
              "outlinewidth": 0,
              "ticks": ""
             }
            },
            "type": "scattermap"
           }
          ],
          "scattermapbox": [
           {
            "marker": {
             "colorbar": {
              "outlinewidth": 0,
              "ticks": ""
             }
            },
            "type": "scattermapbox"
           }
          ],
          "scatterpolar": [
           {
            "marker": {
             "colorbar": {
              "outlinewidth": 0,
              "ticks": ""
             }
            },
            "type": "scatterpolar"
           }
          ],
          "scatterpolargl": [
           {
            "marker": {
             "colorbar": {
              "outlinewidth": 0,
              "ticks": ""
             }
            },
            "type": "scatterpolargl"
           }
          ],
          "scatterternary": [
           {
            "marker": {
             "colorbar": {
              "outlinewidth": 0,
              "ticks": ""
             }
            },
            "type": "scatterternary"
           }
          ],
          "surface": [
           {
            "colorbar": {
             "outlinewidth": 0,
             "ticks": ""
            },
            "colorscale": [
             [
              0,
              "#0d0887"
             ],
             [
              0.1111111111111111,
              "#46039f"
             ],
             [
              0.2222222222222222,
              "#7201a8"
             ],
             [
              0.3333333333333333,
              "#9c179e"
             ],
             [
              0.4444444444444444,
              "#bd3786"
             ],
             [
              0.5555555555555556,
              "#d8576b"
             ],
             [
              0.6666666666666666,
              "#ed7953"
             ],
             [
              0.7777777777777778,
              "#fb9f3a"
             ],
             [
              0.8888888888888888,
              "#fdca26"
             ],
             [
              1,
              "#f0f921"
             ]
            ],
            "type": "surface"
           }
          ],
          "table": [
           {
            "cells": {
             "fill": {
              "color": "#EBF0F8"
             },
             "line": {
              "color": "white"
             }
            },
            "header": {
             "fill": {
              "color": "#C8D4E3"
             },
             "line": {
              "color": "white"
             }
            },
            "type": "table"
           }
          ]
         },
         "layout": {
          "annotationdefaults": {
           "arrowcolor": "#2a3f5f",
           "arrowhead": 0,
           "arrowwidth": 1
          },
          "autotypenumbers": "strict",
          "coloraxis": {
           "colorbar": {
            "outlinewidth": 0,
            "ticks": ""
           }
          },
          "colorscale": {
           "diverging": [
            [
             0,
             "#8e0152"
            ],
            [
             0.1,
             "#c51b7d"
            ],
            [
             0.2,
             "#de77ae"
            ],
            [
             0.3,
             "#f1b6da"
            ],
            [
             0.4,
             "#fde0ef"
            ],
            [
             0.5,
             "#f7f7f7"
            ],
            [
             0.6,
             "#e6f5d0"
            ],
            [
             0.7,
             "#b8e186"
            ],
            [
             0.8,
             "#7fbc41"
            ],
            [
             0.9,
             "#4d9221"
            ],
            [
             1,
             "#276419"
            ]
           ],
           "sequential": [
            [
             0,
             "#0d0887"
            ],
            [
             0.1111111111111111,
             "#46039f"
            ],
            [
             0.2222222222222222,
             "#7201a8"
            ],
            [
             0.3333333333333333,
             "#9c179e"
            ],
            [
             0.4444444444444444,
             "#bd3786"
            ],
            [
             0.5555555555555556,
             "#d8576b"
            ],
            [
             0.6666666666666666,
             "#ed7953"
            ],
            [
             0.7777777777777778,
             "#fb9f3a"
            ],
            [
             0.8888888888888888,
             "#fdca26"
            ],
            [
             1,
             "#f0f921"
            ]
           ],
           "sequentialminus": [
            [
             0,
             "#0d0887"
            ],
            [
             0.1111111111111111,
             "#46039f"
            ],
            [
             0.2222222222222222,
             "#7201a8"
            ],
            [
             0.3333333333333333,
             "#9c179e"
            ],
            [
             0.4444444444444444,
             "#bd3786"
            ],
            [
             0.5555555555555556,
             "#d8576b"
            ],
            [
             0.6666666666666666,
             "#ed7953"
            ],
            [
             0.7777777777777778,
             "#fb9f3a"
            ],
            [
             0.8888888888888888,
             "#fdca26"
            ],
            [
             1,
             "#f0f921"
            ]
           ]
          },
          "colorway": [
           "#636efa",
           "#EF553B",
           "#00cc96",
           "#ab63fa",
           "#FFA15A",
           "#19d3f3",
           "#FF6692",
           "#B6E880",
           "#FF97FF",
           "#FECB52"
          ],
          "font": {
           "color": "#2a3f5f"
          },
          "geo": {
           "bgcolor": "white",
           "lakecolor": "white",
           "landcolor": "#E5ECF6",
           "showlakes": true,
           "showland": true,
           "subunitcolor": "white"
          },
          "hoverlabel": {
           "align": "left"
          },
          "hovermode": "closest",
          "mapbox": {
           "style": "light"
          },
          "paper_bgcolor": "white",
          "plot_bgcolor": "#E5ECF6",
          "polar": {
           "angularaxis": {
            "gridcolor": "white",
            "linecolor": "white",
            "ticks": ""
           },
           "bgcolor": "#E5ECF6",
           "radialaxis": {
            "gridcolor": "white",
            "linecolor": "white",
            "ticks": ""
           }
          },
          "scene": {
           "xaxis": {
            "backgroundcolor": "#E5ECF6",
            "gridcolor": "white",
            "gridwidth": 2,
            "linecolor": "white",
            "showbackground": true,
            "ticks": "",
            "zerolinecolor": "white"
           },
           "yaxis": {
            "backgroundcolor": "#E5ECF6",
            "gridcolor": "white",
            "gridwidth": 2,
            "linecolor": "white",
            "showbackground": true,
            "ticks": "",
            "zerolinecolor": "white"
           },
           "zaxis": {
            "backgroundcolor": "#E5ECF6",
            "gridcolor": "white",
            "gridwidth": 2,
            "linecolor": "white",
            "showbackground": true,
            "ticks": "",
            "zerolinecolor": "white"
           }
          },
          "shapedefaults": {
           "line": {
            "color": "#2a3f5f"
           }
          },
          "ternary": {
           "aaxis": {
            "gridcolor": "white",
            "linecolor": "white",
            "ticks": ""
           },
           "baxis": {
            "gridcolor": "white",
            "linecolor": "white",
            "ticks": ""
           },
           "bgcolor": "#E5ECF6",
           "caxis": {
            "gridcolor": "white",
            "linecolor": "white",
            "ticks": ""
           }
          },
          "title": {
           "x": 0.05
          },
          "xaxis": {
           "automargin": true,
           "gridcolor": "white",
           "linecolor": "white",
           "ticks": "",
           "title": {
            "standoff": 15
           },
           "zerolinecolor": "white",
           "zerolinewidth": 2
          },
          "yaxis": {
           "automargin": true,
           "gridcolor": "white",
           "linecolor": "white",
           "ticks": "",
           "title": {
            "standoff": 15
           },
           "zerolinecolor": "white",
           "zerolinewidth": 2
          }
         }
        },
        "title": {
         "text": "quantity distribution (skewness=0.04)"
        },
        "xaxis": {
         "anchor": "y2",
         "domain": [
          0,
          1
         ],
         "zeroline": false
        },
        "yaxis": {
         "anchor": "free",
         "domain": [
          0.35,
          1
         ],
         "position": 0
        },
        "yaxis2": {
         "anchor": "x",
         "domain": [
          0,
          0.25
         ],
         "dtick": 1,
         "showticklabels": false
        }
       }
      }
     },
     "metadata": {},
     "output_type": "display_data"
    },
    {
     "name": "stdout",
     "output_type": "stream",
     "text": [
      "Plot for 'unit_price':\n"
     ]
    },
    {
     "data": {
      "application/vnd.plotly.v1+json": {
       "config": {
        "plotlyServerURL": "https://plot.ly"
       },
       "data": [
        {
         "autobinx": false,
         "histnorm": "probability density",
         "legendgroup": "unit_price",
         "marker": {
          "color": "rgb(31, 119, 180)"
         },
         "name": "unit_price",
         "opacity": 0.7,
         "type": "histogram",
         "x": {
          "bdata": "9AH0AfoA7gL0Ae4C7gL0Ae4C9AHuAu4C7gL0AfQB7gL0AfoA+gD0AfQB7gL0AfQB+gDuAvQB+gD6APQB7gLuAvQB9AHuAu4C9AH0AfQB9AH6APQB9AH6APQB+gD0AfQB9AH6APoA9AHuAu4C+gD6AO4C7gL0AfQB7gL0AfQB9AH0AfoA9AH0Ae4C+gD0AfQB9AH0AfQB9AHuAvQB9AH6AO4C+gD6APQB9AH0AfQB9AH0Ae4C9AH6APoA9AH6APQB+gD0AfoA9AE=",
          "dtype": "i2"
         },
         "xaxis": "x",
         "xbins": {
          "end": 750,
          "size": 1,
          "start": 250
         },
         "yaxis": "y"
        },
        {
         "legendgroup": "unit_price",
         "marker": {
          "color": "rgb(31, 119, 180)"
         },
         "mode": "lines",
         "name": "unit_price",
         "showlegend": false,
         "type": "scatter",
         "x": [
          250,
          251,
          252,
          253,
          254,
          255,
          256,
          257,
          258,
          259,
          260,
          261,
          262,
          263,
          264,
          265,
          266,
          267,
          268,
          269,
          270,
          271,
          272,
          273,
          274,
          275,
          276,
          277,
          278,
          279,
          280,
          281,
          282,
          283,
          284,
          285,
          286,
          287,
          288,
          289,
          290,
          291,
          292,
          293,
          294,
          295,
          296,
          297,
          298,
          299,
          300,
          301,
          302,
          303,
          304,
          305,
          306,
          307,
          308,
          309,
          310,
          311,
          312,
          313,
          314,
          315,
          316,
          317,
          318,
          319,
          320,
          321,
          322,
          323,
          324,
          325,
          326,
          327,
          328,
          329,
          330,
          331,
          332,
          333,
          334,
          335,
          336,
          337,
          338,
          339,
          340,
          341,
          342,
          343,
          344,
          345,
          346,
          347,
          348,
          349,
          350,
          351,
          352,
          353,
          354,
          355,
          356,
          357,
          358,
          359,
          360,
          361,
          362,
          363,
          364,
          365,
          366,
          367,
          368,
          369,
          370,
          371,
          372,
          373,
          374,
          375,
          376,
          377,
          378,
          379,
          380,
          381,
          382,
          383,
          384,
          385,
          386,
          387,
          388,
          389,
          390,
          391,
          392,
          393,
          394,
          395,
          396,
          397,
          398,
          399,
          400,
          401,
          402,
          403,
          404,
          405,
          406,
          407,
          408,
          409,
          410,
          411,
          412,
          413,
          414,
          415,
          416,
          417,
          418,
          419,
          420,
          421,
          422,
          423,
          424,
          425,
          426,
          427,
          428,
          429,
          430,
          431,
          432,
          433,
          434,
          435,
          436,
          437,
          438,
          439,
          440,
          441,
          442,
          443,
          444,
          445,
          446,
          447,
          448,
          449,
          450,
          451,
          452,
          453,
          454,
          455,
          456,
          457,
          458,
          459,
          460,
          461,
          462,
          463,
          464,
          465,
          466,
          467,
          468,
          469,
          470,
          471,
          472,
          473,
          474,
          475,
          476,
          477,
          478,
          479,
          480,
          481,
          482,
          483,
          484,
          485,
          486,
          487,
          488,
          489,
          490,
          491,
          492,
          493,
          494,
          495,
          496,
          497,
          498,
          499,
          500,
          501,
          502,
          503,
          504,
          505,
          506,
          507,
          508,
          509,
          510,
          511,
          512,
          513,
          514,
          515,
          516,
          517,
          518,
          519,
          520,
          521,
          522,
          523,
          524,
          525,
          526,
          527,
          528,
          529,
          530,
          531,
          532,
          533,
          534,
          535,
          536,
          537,
          538,
          539,
          540,
          541,
          542,
          543,
          544,
          545,
          546,
          547,
          548,
          549,
          550,
          551,
          552,
          553,
          554,
          555,
          556,
          557,
          558,
          559,
          560,
          561,
          562,
          563,
          564,
          565,
          566,
          567,
          568,
          569,
          570,
          571,
          572,
          573,
          574,
          575,
          576,
          577,
          578,
          579,
          580,
          581,
          582,
          583,
          584,
          585,
          586,
          587,
          588,
          589,
          590,
          591,
          592,
          593,
          594,
          595,
          596,
          597,
          598,
          599,
          600,
          601,
          602,
          603,
          604,
          605,
          606,
          607,
          608,
          609,
          610,
          611,
          612,
          613,
          614,
          615,
          616,
          617,
          618,
          619,
          620,
          621,
          622,
          623,
          624,
          625,
          626,
          627,
          628,
          629,
          630,
          631,
          632,
          633,
          634,
          635,
          636,
          637,
          638,
          639,
          640,
          641,
          642,
          643,
          644,
          645,
          646,
          647,
          648,
          649,
          650,
          651,
          652,
          653,
          654,
          655,
          656,
          657,
          658,
          659,
          660,
          661,
          662,
          663,
          664,
          665,
          666,
          667,
          668,
          669,
          670,
          671,
          672,
          673,
          674,
          675,
          676,
          677,
          678,
          679,
          680,
          681,
          682,
          683,
          684,
          685,
          686,
          687,
          688,
          689,
          690,
          691,
          692,
          693,
          694,
          695,
          696,
          697,
          698,
          699,
          700,
          701,
          702,
          703,
          704,
          705,
          706,
          707,
          708,
          709,
          710,
          711,
          712,
          713,
          714,
          715,
          716,
          717,
          718,
          719,
          720,
          721,
          722,
          723,
          724,
          725,
          726,
          727,
          728,
          729,
          730,
          731,
          732,
          733,
          734,
          735,
          736,
          737,
          738,
          739,
          740,
          741,
          742,
          743,
          744,
          745,
          746,
          747,
          748,
          749
         ],
         "xaxis": "x",
         "y": {
          "bdata": "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",
          "dtype": "f8"
         },
         "yaxis": "y"
        },
        {
         "legendgroup": "unit_price",
         "marker": {
          "color": "rgb(31, 119, 180)",
          "symbol": "line-ns-open"
         },
         "mode": "markers",
         "name": "unit_price",
         "showlegend": false,
         "type": "scatter",
         "x": {
          "bdata": "9AH0AfoA7gL0Ae4C7gL0Ae4C9AHuAu4C7gL0AfQB7gL0AfoA+gD0AfQB7gL0AfQB+gDuAvQB+gD6APQB7gLuAvQB9AHuAu4C9AH0AfQB9AH6APQB9AH6APQB+gD0AfQB9AH6APoA9AHuAu4C+gD6AO4C7gL0AfQB7gL0AfQB9AH0AfoA9AH0Ae4C+gD0AfQB9AH0AfQB9AHuAvQB9AH6AO4C+gD6APQB9AH0AfQB9AH0Ae4C9AH6APoA9AH6APQB+gD0AfoA9AE=",
          "dtype": "i2"
         },
         "xaxis": "x",
         "y": [
          "unit_price",
          "unit_price",
          "unit_price",
          "unit_price",
          "unit_price",
          "unit_price",
          "unit_price",
          "unit_price",
          "unit_price",
          "unit_price",
          "unit_price",
          "unit_price",
          "unit_price",
          "unit_price",
          "unit_price",
          "unit_price",
          "unit_price",
          "unit_price",
          "unit_price",
          "unit_price",
          "unit_price",
          "unit_price",
          "unit_price",
          "unit_price",
          "unit_price",
          "unit_price",
          "unit_price",
          "unit_price",
          "unit_price",
          "unit_price",
          "unit_price",
          "unit_price",
          "unit_price",
          "unit_price",
          "unit_price",
          "unit_price",
          "unit_price",
          "unit_price",
          "unit_price",
          "unit_price",
          "unit_price",
          "unit_price",
          "unit_price",
          "unit_price",
          "unit_price",
          "unit_price",
          "unit_price",
          "unit_price",
          "unit_price",
          "unit_price",
          "unit_price",
          "unit_price",
          "unit_price",
          "unit_price",
          "unit_price",
          "unit_price",
          "unit_price",
          "unit_price",
          "unit_price",
          "unit_price",
          "unit_price",
          "unit_price",
          "unit_price",
          "unit_price",
          "unit_price",
          "unit_price",
          "unit_price",
          "unit_price",
          "unit_price",
          "unit_price",
          "unit_price",
          "unit_price",
          "unit_price",
          "unit_price",
          "unit_price",
          "unit_price",
          "unit_price",
          "unit_price",
          "unit_price",
          "unit_price",
          "unit_price",
          "unit_price",
          "unit_price",
          "unit_price",
          "unit_price",
          "unit_price",
          "unit_price",
          "unit_price",
          "unit_price",
          "unit_price",
          "unit_price",
          "unit_price",
          "unit_price",
          "unit_price",
          "unit_price",
          "unit_price",
          "unit_price",
          "unit_price",
          "unit_price",
          "unit_price"
         ],
         "yaxis": "y2"
        }
       ],
       "layout": {
        "barmode": "overlay",
        "hovermode": "closest",
        "legend": {
         "traceorder": "reversed"
        },
        "template": {
         "data": {
          "bar": [
           {
            "error_x": {
             "color": "#2a3f5f"
            },
            "error_y": {
             "color": "#2a3f5f"
            },
            "marker": {
             "line": {
              "color": "#E5ECF6",
              "width": 0.5
             },
             "pattern": {
              "fillmode": "overlay",
              "size": 10,
              "solidity": 0.2
             }
            },
            "type": "bar"
           }
          ],
          "barpolar": [
           {
            "marker": {
             "line": {
              "color": "#E5ECF6",
              "width": 0.5
             },
             "pattern": {
              "fillmode": "overlay",
              "size": 10,
              "solidity": 0.2
             }
            },
            "type": "barpolar"
           }
          ],
          "carpet": [
           {
            "aaxis": {
             "endlinecolor": "#2a3f5f",
             "gridcolor": "white",
             "linecolor": "white",
             "minorgridcolor": "white",
             "startlinecolor": "#2a3f5f"
            },
            "baxis": {
             "endlinecolor": "#2a3f5f",
             "gridcolor": "white",
             "linecolor": "white",
             "minorgridcolor": "white",
             "startlinecolor": "#2a3f5f"
            },
            "type": "carpet"
           }
          ],
          "choropleth": [
           {
            "colorbar": {
             "outlinewidth": 0,
             "ticks": ""
            },
            "type": "choropleth"
           }
          ],
          "contour": [
           {
            "colorbar": {
             "outlinewidth": 0,
             "ticks": ""
            },
            "colorscale": [
             [
              0,
              "#0d0887"
             ],
             [
              0.1111111111111111,
              "#46039f"
             ],
             [
              0.2222222222222222,
              "#7201a8"
             ],
             [
              0.3333333333333333,
              "#9c179e"
             ],
             [
              0.4444444444444444,
              "#bd3786"
             ],
             [
              0.5555555555555556,
              "#d8576b"
             ],
             [
              0.6666666666666666,
              "#ed7953"
             ],
             [
              0.7777777777777778,
              "#fb9f3a"
             ],
             [
              0.8888888888888888,
              "#fdca26"
             ],
             [
              1,
              "#f0f921"
             ]
            ],
            "type": "contour"
           }
          ],
          "contourcarpet": [
           {
            "colorbar": {
             "outlinewidth": 0,
             "ticks": ""
            },
            "type": "contourcarpet"
           }
          ],
          "heatmap": [
           {
            "colorbar": {
             "outlinewidth": 0,
             "ticks": ""
            },
            "colorscale": [
             [
              0,
              "#0d0887"
             ],
             [
              0.1111111111111111,
              "#46039f"
             ],
             [
              0.2222222222222222,
              "#7201a8"
             ],
             [
              0.3333333333333333,
              "#9c179e"
             ],
             [
              0.4444444444444444,
              "#bd3786"
             ],
             [
              0.5555555555555556,
              "#d8576b"
             ],
             [
              0.6666666666666666,
              "#ed7953"
             ],
             [
              0.7777777777777778,
              "#fb9f3a"
             ],
             [
              0.8888888888888888,
              "#fdca26"
             ],
             [
              1,
              "#f0f921"
             ]
            ],
            "type": "heatmap"
           }
          ],
          "histogram": [
           {
            "marker": {
             "pattern": {
              "fillmode": "overlay",
              "size": 10,
              "solidity": 0.2
             }
            },
            "type": "histogram"
           }
          ],
          "histogram2d": [
           {
            "colorbar": {
             "outlinewidth": 0,
             "ticks": ""
            },
            "colorscale": [
             [
              0,
              "#0d0887"
             ],
             [
              0.1111111111111111,
              "#46039f"
             ],
             [
              0.2222222222222222,
              "#7201a8"
             ],
             [
              0.3333333333333333,
              "#9c179e"
             ],
             [
              0.4444444444444444,
              "#bd3786"
             ],
             [
              0.5555555555555556,
              "#d8576b"
             ],
             [
              0.6666666666666666,
              "#ed7953"
             ],
             [
              0.7777777777777778,
              "#fb9f3a"
             ],
             [
              0.8888888888888888,
              "#fdca26"
             ],
             [
              1,
              "#f0f921"
             ]
            ],
            "type": "histogram2d"
           }
          ],
          "histogram2dcontour": [
           {
            "colorbar": {
             "outlinewidth": 0,
             "ticks": ""
            },
            "colorscale": [
             [
              0,
              "#0d0887"
             ],
             [
              0.1111111111111111,
              "#46039f"
             ],
             [
              0.2222222222222222,
              "#7201a8"
             ],
             [
              0.3333333333333333,
              "#9c179e"
             ],
             [
              0.4444444444444444,
              "#bd3786"
             ],
             [
              0.5555555555555556,
              "#d8576b"
             ],
             [
              0.6666666666666666,
              "#ed7953"
             ],
             [
              0.7777777777777778,
              "#fb9f3a"
             ],
             [
              0.8888888888888888,
              "#fdca26"
             ],
             [
              1,
              "#f0f921"
             ]
            ],
            "type": "histogram2dcontour"
           }
          ],
          "mesh3d": [
           {
            "colorbar": {
             "outlinewidth": 0,
             "ticks": ""
            },
            "type": "mesh3d"
           }
          ],
          "parcoords": [
           {
            "line": {
             "colorbar": {
              "outlinewidth": 0,
              "ticks": ""
             }
            },
            "type": "parcoords"
           }
          ],
          "pie": [
           {
            "automargin": true,
            "type": "pie"
           }
          ],
          "scatter": [
           {
            "fillpattern": {
             "fillmode": "overlay",
             "size": 10,
             "solidity": 0.2
            },
            "type": "scatter"
           }
          ],
          "scatter3d": [
           {
            "line": {
             "colorbar": {
              "outlinewidth": 0,
              "ticks": ""
             }
            },
            "marker": {
             "colorbar": {
              "outlinewidth": 0,
              "ticks": ""
             }
            },
            "type": "scatter3d"
           }
          ],
          "scattercarpet": [
           {
            "marker": {
             "colorbar": {
              "outlinewidth": 0,
              "ticks": ""
             }
            },
            "type": "scattercarpet"
           }
          ],
          "scattergeo": [
           {
            "marker": {
             "colorbar": {
              "outlinewidth": 0,
              "ticks": ""
             }
            },
            "type": "scattergeo"
           }
          ],
          "scattergl": [
           {
            "marker": {
             "colorbar": {
              "outlinewidth": 0,
              "ticks": ""
             }
            },
            "type": "scattergl"
           }
          ],
          "scattermap": [
           {
            "marker": {
             "colorbar": {
              "outlinewidth": 0,
              "ticks": ""
             }
            },
            "type": "scattermap"
           }
          ],
          "scattermapbox": [
           {
            "marker": {
             "colorbar": {
              "outlinewidth": 0,
              "ticks": ""
             }
            },
            "type": "scattermapbox"
           }
          ],
          "scatterpolar": [
           {
            "marker": {
             "colorbar": {
              "outlinewidth": 0,
              "ticks": ""
             }
            },
            "type": "scatterpolar"
           }
          ],
          "scatterpolargl": [
           {
            "marker": {
             "colorbar": {
              "outlinewidth": 0,
              "ticks": ""
             }
            },
            "type": "scatterpolargl"
           }
          ],
          "scatterternary": [
           {
            "marker": {
             "colorbar": {
              "outlinewidth": 0,
              "ticks": ""
             }
            },
            "type": "scatterternary"
           }
          ],
          "surface": [
           {
            "colorbar": {
             "outlinewidth": 0,
             "ticks": ""
            },
            "colorscale": [
             [
              0,
              "#0d0887"
             ],
             [
              0.1111111111111111,
              "#46039f"
             ],
             [
              0.2222222222222222,
              "#7201a8"
             ],
             [
              0.3333333333333333,
              "#9c179e"
             ],
             [
              0.4444444444444444,
              "#bd3786"
             ],
             [
              0.5555555555555556,
              "#d8576b"
             ],
             [
              0.6666666666666666,
              "#ed7953"
             ],
             [
              0.7777777777777778,
              "#fb9f3a"
             ],
             [
              0.8888888888888888,
              "#fdca26"
             ],
             [
              1,
              "#f0f921"
             ]
            ],
            "type": "surface"
           }
          ],
          "table": [
           {
            "cells": {
             "fill": {
              "color": "#EBF0F8"
             },
             "line": {
              "color": "white"
             }
            },
            "header": {
             "fill": {
              "color": "#C8D4E3"
             },
             "line": {
              "color": "white"
             }
            },
            "type": "table"
           }
          ]
         },
         "layout": {
          "annotationdefaults": {
           "arrowcolor": "#2a3f5f",
           "arrowhead": 0,
           "arrowwidth": 1
          },
          "autotypenumbers": "strict",
          "coloraxis": {
           "colorbar": {
            "outlinewidth": 0,
            "ticks": ""
           }
          },
          "colorscale": {
           "diverging": [
            [
             0,
             "#8e0152"
            ],
            [
             0.1,
             "#c51b7d"
            ],
            [
             0.2,
             "#de77ae"
            ],
            [
             0.3,
             "#f1b6da"
            ],
            [
             0.4,
             "#fde0ef"
            ],
            [
             0.5,
             "#f7f7f7"
            ],
            [
             0.6,
             "#e6f5d0"
            ],
            [
             0.7,
             "#b8e186"
            ],
            [
             0.8,
             "#7fbc41"
            ],
            [
             0.9,
             "#4d9221"
            ],
            [
             1,
             "#276419"
            ]
           ],
           "sequential": [
            [
             0,
             "#0d0887"
            ],
            [
             0.1111111111111111,
             "#46039f"
            ],
            [
             0.2222222222222222,
             "#7201a8"
            ],
            [
             0.3333333333333333,
             "#9c179e"
            ],
            [
             0.4444444444444444,
             "#bd3786"
            ],
            [
             0.5555555555555556,
             "#d8576b"
            ],
            [
             0.6666666666666666,
             "#ed7953"
            ],
            [
             0.7777777777777778,
             "#fb9f3a"
            ],
            [
             0.8888888888888888,
             "#fdca26"
            ],
            [
             1,
             "#f0f921"
            ]
           ],
           "sequentialminus": [
            [
             0,
             "#0d0887"
            ],
            [
             0.1111111111111111,
             "#46039f"
            ],
            [
             0.2222222222222222,
             "#7201a8"
            ],
            [
             0.3333333333333333,
             "#9c179e"
            ],
            [
             0.4444444444444444,
             "#bd3786"
            ],
            [
             0.5555555555555556,
             "#d8576b"
            ],
            [
             0.6666666666666666,
             "#ed7953"
            ],
            [
             0.7777777777777778,
             "#fb9f3a"
            ],
            [
             0.8888888888888888,
             "#fdca26"
            ],
            [
             1,
             "#f0f921"
            ]
           ]
          },
          "colorway": [
           "#636efa",
           "#EF553B",
           "#00cc96",
           "#ab63fa",
           "#FFA15A",
           "#19d3f3",
           "#FF6692",
           "#B6E880",
           "#FF97FF",
           "#FECB52"
          ],
          "font": {
           "color": "#2a3f5f"
          },
          "geo": {
           "bgcolor": "white",
           "lakecolor": "white",
           "landcolor": "#E5ECF6",
           "showlakes": true,
           "showland": true,
           "subunitcolor": "white"
          },
          "hoverlabel": {
           "align": "left"
          },
          "hovermode": "closest",
          "mapbox": {
           "style": "light"
          },
          "paper_bgcolor": "white",
          "plot_bgcolor": "#E5ECF6",
          "polar": {
           "angularaxis": {
            "gridcolor": "white",
            "linecolor": "white",
            "ticks": ""
           },
           "bgcolor": "#E5ECF6",
           "radialaxis": {
            "gridcolor": "white",
            "linecolor": "white",
            "ticks": ""
           }
          },
          "scene": {
           "xaxis": {
            "backgroundcolor": "#E5ECF6",
            "gridcolor": "white",
            "gridwidth": 2,
            "linecolor": "white",
            "showbackground": true,
            "ticks": "",
            "zerolinecolor": "white"
           },
           "yaxis": {
            "backgroundcolor": "#E5ECF6",
            "gridcolor": "white",
            "gridwidth": 2,
            "linecolor": "white",
            "showbackground": true,
            "ticks": "",
            "zerolinecolor": "white"
           },
           "zaxis": {
            "backgroundcolor": "#E5ECF6",
            "gridcolor": "white",
            "gridwidth": 2,
            "linecolor": "white",
            "showbackground": true,
            "ticks": "",
            "zerolinecolor": "white"
           }
          },
          "shapedefaults": {
           "line": {
            "color": "#2a3f5f"
           }
          },
          "ternary": {
           "aaxis": {
            "gridcolor": "white",
            "linecolor": "white",
            "ticks": ""
           },
           "baxis": {
            "gridcolor": "white",
            "linecolor": "white",
            "ticks": ""
           },
           "bgcolor": "#E5ECF6",
           "caxis": {
            "gridcolor": "white",
            "linecolor": "white",
            "ticks": ""
           }
          },
          "title": {
           "x": 0.05
          },
          "xaxis": {
           "automargin": true,
           "gridcolor": "white",
           "linecolor": "white",
           "ticks": "",
           "title": {
            "standoff": 15
           },
           "zerolinecolor": "white",
           "zerolinewidth": 2
          },
          "yaxis": {
           "automargin": true,
           "gridcolor": "white",
           "linecolor": "white",
           "ticks": "",
           "title": {
            "standoff": 15
           },
           "zerolinecolor": "white",
           "zerolinewidth": 2
          }
         }
        },
        "title": {
         "text": "unit_price distribution (skewness=0.00)"
        },
        "xaxis": {
         "anchor": "y2",
         "domain": [
          0,
          1
         ],
         "zeroline": false
        },
        "yaxis": {
         "anchor": "free",
         "domain": [
          0.35,
          1
         ],
         "position": 0
        },
        "yaxis2": {
         "anchor": "x",
         "domain": [
          0,
          0.25
         ],
         "dtick": 1,
         "showticklabels": false
        }
       }
      }
     },
     "metadata": {},
     "output_type": "display_data"
    }
   ],
   "source": [
    "# Displaying the graphs showing the skewness\n",
    "for col, fig in dist_full_figs.items():\n",
    "    print(f\"Plot for '{col}':\")\n",
    "    fig.show()"
   ]
  },
  {
   "cell_type": "markdown",
   "id": "3f721bd8",
   "metadata": {},
   "source": [
    "After null values are handled:"
   ]
  },
  {
   "cell_type": "code",
   "execution_count": 16,
   "id": "9f5fb837",
   "metadata": {},
   "outputs": [
    {
     "name": "stdout",
     "output_type": "stream",
     "text": [
      "customer_name    0\n",
      "product          0\n",
      "quantity         0\n",
      "unit_price       0\n",
      "order_date       0\n",
      "region           0\n",
      "dtype: int64\n"
     ]
    }
   ],
   "source": [
    "# State after handling null values\n",
    "df_full_null_counts = df_full.isnull().sum()\n",
    "print(df_full_null_counts)"
   ]
  },
  {
   "cell_type": "markdown",
   "id": "0df8e8de",
   "metadata": {},
   "source": [
    "#### Duplicate Rows"
   ]
  },
  {
   "cell_type": "markdown",
   "id": "68519959",
   "metadata": {},
   "source": [
    "Before duplicate rows were handled:"
   ]
  },
  {
   "cell_type": "code",
   "execution_count": 17,
   "id": "95eea914",
   "metadata": {},
   "outputs": [
    {
     "name": "stdout",
     "output_type": "stream",
     "text": [
      "1\n"
     ]
    }
   ],
   "source": [
    "# Initial state before handling duplicate rows\n",
    "df_full_num_dupes = df_full.duplicated().sum()\n",
    "print(df_full_num_dupes)"
   ]
  },
  {
   "cell_type": "markdown",
   "id": "35d0bc88",
   "metadata": {},
   "source": [
    "To handle duplicate rows, the duplicate rows will be dropped. This ensures that there is no redundancy in the data set."
   ]
  },
  {
   "cell_type": "code",
   "execution_count": 18,
   "id": "0ea0919e",
   "metadata": {},
   "outputs": [],
   "source": [
    "# Deleting duplicate rows\n",
    "df_full = handle_duplicates(df_full)"
   ]
  },
  {
   "cell_type": "markdown",
   "id": "39be65b1",
   "metadata": {},
   "source": [
    "After duplicate rows are handled:"
   ]
  },
  {
   "cell_type": "code",
   "execution_count": 19,
   "id": "4b48ad62",
   "metadata": {},
   "outputs": [
    {
     "name": "stdout",
     "output_type": "stream",
     "text": [
      "0\n"
     ]
    }
   ],
   "source": [
    "# After deleting duplicate rows\n",
    "df_full_num_dupes = df_full.duplicated().sum()\n",
    "print(df_full_num_dupes)"
   ]
  },
  {
   "cell_type": "markdown",
   "id": "9e7679a7",
   "metadata": {},
   "source": [
    "### Incremental Data"
   ]
  },
  {
   "cell_type": "markdown",
   "id": "ec3f7d92",
   "metadata": {},
   "source": [
    "#### Irrelevant Columns"
   ]
  },
  {
   "cell_type": "markdown",
   "id": "dae66d20",
   "metadata": {},
   "source": [
    "Before irrelevant columns are handled:"
   ]
  },
  {
   "cell_type": "code",
   "execution_count": 20,
   "id": "03d30212",
   "metadata": {},
   "outputs": [
    {
     "data": {
      "text/html": [
       "<div>\n",
       "<style scoped>\n",
       "    .dataframe tbody tr th:only-of-type {\n",
       "        vertical-align: middle;\n",
       "    }\n",
       "\n",
       "    .dataframe tbody tr th {\n",
       "        vertical-align: top;\n",
       "    }\n",
       "\n",
       "    .dataframe thead th {\n",
       "        text-align: right;\n",
       "    }\n",
       "</style>\n",
       "<table border=\"1\" class=\"dataframe\">\n",
       "  <thead>\n",
       "    <tr style=\"text-align: right;\">\n",
       "      <th></th>\n",
       "      <th>order_id</th>\n",
       "      <th>customer_name</th>\n",
       "      <th>product</th>\n",
       "      <th>quantity</th>\n",
       "      <th>unit_price</th>\n",
       "      <th>order_date</th>\n",
       "      <th>region</th>\n",
       "    </tr>\n",
       "  </thead>\n",
       "  <tbody>\n",
       "    <tr>\n",
       "      <th>0</th>\n",
       "      <td>101</td>\n",
       "      <td>Alice</td>\n",
       "      <td>Laptop</td>\n",
       "      <td>NaN</td>\n",
       "      <td>900.0</td>\n",
       "      <td>2024-05-09</td>\n",
       "      <td>Central</td>\n",
       "    </tr>\n",
       "    <tr>\n",
       "      <th>1</th>\n",
       "      <td>102</td>\n",
       "      <td>NaN</td>\n",
       "      <td>Laptop</td>\n",
       "      <td>1.0</td>\n",
       "      <td>300.0</td>\n",
       "      <td>2024-05-07</td>\n",
       "      <td>Central</td>\n",
       "    </tr>\n",
       "  </tbody>\n",
       "</table>\n",
       "</div>"
      ],
      "text/plain": [
       "   order_id customer_name product  quantity  unit_price  order_date   region\n",
       "0       101         Alice  Laptop       NaN       900.0  2024-05-09  Central\n",
       "1       102           NaN  Laptop       1.0       300.0  2024-05-07  Central"
      ]
     },
     "execution_count": 20,
     "metadata": {},
     "output_type": "execute_result"
    }
   ],
   "source": [
    "# Initial state before handling irrelevant columns\n",
    "df_incremental.head(2)"
   ]
  },
  {
   "cell_type": "markdown",
   "id": "a72d6f00",
   "metadata": {},
   "source": [
    "To handle irrelevant columns the `order_id` column will be dropped. This column offers no insights when performing data analysis."
   ]
  },
  {
   "cell_type": "code",
   "execution_count": 21,
   "id": "82f774b0",
   "metadata": {},
   "outputs": [],
   "source": [
    "# Handling the irrelevant column\n",
    "df_incremental = drop_irrelevant_columns(df_incremental, [\"order_id\"])"
   ]
  },
  {
   "cell_type": "markdown",
   "id": "c32d4298",
   "metadata": {},
   "source": [
    "After handling the irrelevant column:"
   ]
  },
  {
   "cell_type": "code",
   "execution_count": 22,
   "id": "d4ce714b",
   "metadata": {},
   "outputs": [
    {
     "data": {
      "text/html": [
       "<div>\n",
       "<style scoped>\n",
       "    .dataframe tbody tr th:only-of-type {\n",
       "        vertical-align: middle;\n",
       "    }\n",
       "\n",
       "    .dataframe tbody tr th {\n",
       "        vertical-align: top;\n",
       "    }\n",
       "\n",
       "    .dataframe thead th {\n",
       "        text-align: right;\n",
       "    }\n",
       "</style>\n",
       "<table border=\"1\" class=\"dataframe\">\n",
       "  <thead>\n",
       "    <tr style=\"text-align: right;\">\n",
       "      <th></th>\n",
       "      <th>customer_name</th>\n",
       "      <th>product</th>\n",
       "      <th>quantity</th>\n",
       "      <th>unit_price</th>\n",
       "      <th>order_date</th>\n",
       "      <th>region</th>\n",
       "    </tr>\n",
       "  </thead>\n",
       "  <tbody>\n",
       "    <tr>\n",
       "      <th>0</th>\n",
       "      <td>Alice</td>\n",
       "      <td>Laptop</td>\n",
       "      <td>NaN</td>\n",
       "      <td>900.0</td>\n",
       "      <td>2024-05-09</td>\n",
       "      <td>Central</td>\n",
       "    </tr>\n",
       "    <tr>\n",
       "      <th>1</th>\n",
       "      <td>NaN</td>\n",
       "      <td>Laptop</td>\n",
       "      <td>1.0</td>\n",
       "      <td>300.0</td>\n",
       "      <td>2024-05-07</td>\n",
       "      <td>Central</td>\n",
       "    </tr>\n",
       "  </tbody>\n",
       "</table>\n",
       "</div>"
      ],
      "text/plain": [
       "  customer_name product  quantity  unit_price  order_date   region\n",
       "0         Alice  Laptop       NaN       900.0  2024-05-09  Central\n",
       "1           NaN  Laptop       1.0       300.0  2024-05-07  Central"
      ]
     },
     "execution_count": 22,
     "metadata": {},
     "output_type": "execute_result"
    }
   ],
   "source": [
    "# After handling the irrelevant column\n",
    "df_incremental.head(2)"
   ]
  },
  {
   "cell_type": "markdown",
   "id": "cb0c2456",
   "metadata": {},
   "source": [
    "#### Null Values"
   ]
  },
  {
   "cell_type": "markdown",
   "id": "7c437251",
   "metadata": {},
   "source": [
    "Before null values were handled:"
   ]
  },
  {
   "cell_type": "code",
   "execution_count": 23,
   "id": "bb21fe42",
   "metadata": {},
   "outputs": [
    {
     "data": {
      "text/html": [
       "<div>\n",
       "<style scoped>\n",
       "    .dataframe tbody tr th:only-of-type {\n",
       "        vertical-align: middle;\n",
       "    }\n",
       "\n",
       "    .dataframe tbody tr th {\n",
       "        vertical-align: top;\n",
       "    }\n",
       "\n",
       "    .dataframe thead th {\n",
       "        text-align: right;\n",
       "    }\n",
       "</style>\n",
       "<table border=\"1\" class=\"dataframe\">\n",
       "  <thead>\n",
       "    <tr style=\"text-align: right;\">\n",
       "      <th></th>\n",
       "      <th>customer_name</th>\n",
       "      <th>product</th>\n",
       "      <th>quantity</th>\n",
       "      <th>unit_price</th>\n",
       "      <th>order_date</th>\n",
       "      <th>region</th>\n",
       "    </tr>\n",
       "  </thead>\n",
       "  <tbody>\n",
       "    <tr>\n",
       "      <th>0</th>\n",
       "      <td>Alice</td>\n",
       "      <td>Laptop</td>\n",
       "      <td>NaN</td>\n",
       "      <td>900.0</td>\n",
       "      <td>2024-05-09</td>\n",
       "      <td>Central</td>\n",
       "    </tr>\n",
       "    <tr>\n",
       "      <th>1</th>\n",
       "      <td>NaN</td>\n",
       "      <td>Laptop</td>\n",
       "      <td>1.0</td>\n",
       "      <td>300.0</td>\n",
       "      <td>2024-05-07</td>\n",
       "      <td>Central</td>\n",
       "    </tr>\n",
       "  </tbody>\n",
       "</table>\n",
       "</div>"
      ],
      "text/plain": [
       "  customer_name product  quantity  unit_price  order_date   region\n",
       "0         Alice  Laptop       NaN       900.0  2024-05-09  Central\n",
       "1           NaN  Laptop       1.0       300.0  2024-05-07  Central"
      ]
     },
     "execution_count": 23,
     "metadata": {},
     "output_type": "execute_result"
    }
   ],
   "source": [
    "# Initial state before handling irrelevant columns\n",
    "df_incremental.head(2)"
   ]
  },
  {
   "cell_type": "markdown",
   "id": "1d3f5c76",
   "metadata": {},
   "source": [
    "To handle null values a selection between:\n",
    "\n",
    "- Mean imputation\n",
    "- Median imputation\n",
    "- Mode imputation\n",
    "\n",
    "will be done dependent on the data type and/or distribution.\n",
    "\n",
    "This will ensure that rows with null values will not need to be dropped. Rather, they will align to the data distribution of the pre-existing data."
   ]
  },
  {
   "cell_type": "code",
   "execution_count": 24,
   "id": "da2e52fc",
   "metadata": {},
   "outputs": [],
   "source": [
    "# Imputing null values with graphing to check skewness\n",
    "df_incremental, dist_incremental_figs = handling_missing_values_with_viz(df_incremental)"
   ]
  },
  {
   "cell_type": "code",
   "execution_count": 25,
   "id": "641eedcc",
   "metadata": {},
   "outputs": [
    {
     "name": "stdout",
     "output_type": "stream",
     "text": [
      "Plot for 'quantity':\n"
     ]
    },
    {
     "data": {
      "application/vnd.plotly.v1+json": {
       "config": {
        "plotlyServerURL": "https://plot.ly"
       },
       "data": [
        {
         "autobinx": false,
         "histnorm": "probability density",
         "legendgroup": "quantity",
         "marker": {
          "color": "rgb(31, 119, 180)"
         },
         "name": "quantity",
         "opacity": 0.7,
         "type": "histogram",
         "x": {
          "bdata": "AgEBAgICAQICAg==",
          "dtype": "i1"
         },
         "xaxis": "x",
         "xbins": {
          "end": 2,
          "size": 1,
          "start": 1
         },
         "yaxis": "y"
        },
        {
         "legendgroup": "quantity",
         "marker": {
          "color": "rgb(31, 119, 180)"
         },
         "mode": "lines",
         "name": "quantity",
         "showlegend": false,
         "type": "scatter",
         "x": [
          1,
          1.002,
          1.004,
          1.006,
          1.008,
          1.01,
          1.012,
          1.014,
          1.016,
          1.018,
          1.02,
          1.022,
          1.024,
          1.026,
          1.028,
          1.03,
          1.032,
          1.034,
          1.036,
          1.038,
          1.04,
          1.042,
          1.044,
          1.046,
          1.048,
          1.05,
          1.052,
          1.054,
          1.056,
          1.058,
          1.06,
          1.062,
          1.064,
          1.066,
          1.068,
          1.07,
          1.072,
          1.074,
          1.076,
          1.078,
          1.08,
          1.082,
          1.084,
          1.086,
          1.088,
          1.09,
          1.092,
          1.094,
          1.096,
          1.098,
          1.1,
          1.102,
          1.104,
          1.106,
          1.108,
          1.11,
          1.112,
          1.114,
          1.116,
          1.1179999999999999,
          1.12,
          1.1219999999999999,
          1.124,
          1.126,
          1.1280000000000001,
          1.13,
          1.1320000000000001,
          1.134,
          1.1360000000000001,
          1.138,
          1.1400000000000001,
          1.142,
          1.144,
          1.146,
          1.148,
          1.15,
          1.152,
          1.154,
          1.156,
          1.158,
          1.16,
          1.162,
          1.164,
          1.166,
          1.168,
          1.17,
          1.172,
          1.174,
          1.176,
          1.178,
          1.18,
          1.182,
          1.184,
          1.186,
          1.188,
          1.19,
          1.192,
          1.194,
          1.196,
          1.198,
          1.2,
          1.202,
          1.204,
          1.206,
          1.208,
          1.21,
          1.212,
          1.214,
          1.216,
          1.218,
          1.22,
          1.222,
          1.224,
          1.226,
          1.228,
          1.23,
          1.232,
          1.234,
          1.236,
          1.238,
          1.24,
          1.242,
          1.244,
          1.246,
          1.248,
          1.25,
          1.252,
          1.254,
          1.256,
          1.258,
          1.26,
          1.262,
          1.264,
          1.266,
          1.268,
          1.27,
          1.272,
          1.274,
          1.276,
          1.278,
          1.28,
          1.282,
          1.284,
          1.286,
          1.288,
          1.29,
          1.292,
          1.294,
          1.296,
          1.298,
          1.3,
          1.302,
          1.304,
          1.306,
          1.308,
          1.31,
          1.312,
          1.314,
          1.316,
          1.318,
          1.32,
          1.322,
          1.324,
          1.326,
          1.328,
          1.33,
          1.332,
          1.334,
          1.336,
          1.338,
          1.34,
          1.342,
          1.3439999999999999,
          1.346,
          1.3479999999999999,
          1.35,
          1.3519999999999999,
          1.354,
          1.3559999999999999,
          1.358,
          1.3599999999999999,
          1.362,
          1.3639999999999999,
          1.366,
          1.3679999999999999,
          1.37,
          1.3719999999999999,
          1.374,
          1.376,
          1.3780000000000001,
          1.38,
          1.3820000000000001,
          1.384,
          1.3860000000000001,
          1.388,
          1.3900000000000001,
          1.392,
          1.3940000000000001,
          1.396,
          1.3980000000000001,
          1.4,
          1.4020000000000001,
          1.404,
          1.4060000000000001,
          1.408,
          1.41,
          1.412,
          1.414,
          1.416,
          1.418,
          1.42,
          1.422,
          1.424,
          1.426,
          1.428,
          1.43,
          1.432,
          1.434,
          1.436,
          1.438,
          1.44,
          1.442,
          1.444,
          1.446,
          1.448,
          1.45,
          1.452,
          1.454,
          1.456,
          1.458,
          1.46,
          1.462,
          1.464,
          1.466,
          1.468,
          1.47,
          1.472,
          1.474,
          1.476,
          1.478,
          1.48,
          1.482,
          1.484,
          1.486,
          1.488,
          1.49,
          1.492,
          1.494,
          1.496,
          1.498,
          1.5,
          1.502,
          1.504,
          1.506,
          1.508,
          1.51,
          1.512,
          1.514,
          1.516,
          1.518,
          1.52,
          1.522,
          1.524,
          1.526,
          1.528,
          1.53,
          1.532,
          1.534,
          1.536,
          1.538,
          1.54,
          1.542,
          1.544,
          1.546,
          1.548,
          1.55,
          1.552,
          1.554,
          1.556,
          1.558,
          1.56,
          1.562,
          1.564,
          1.5659999999999998,
          1.568,
          1.5699999999999998,
          1.572,
          1.5739999999999998,
          1.576,
          1.5779999999999998,
          1.58,
          1.5819999999999999,
          1.584,
          1.5859999999999999,
          1.588,
          1.5899999999999999,
          1.592,
          1.5939999999999999,
          1.596,
          1.5979999999999999,
          1.6,
          1.6019999999999999,
          1.604,
          1.6059999999999999,
          1.608,
          1.6099999999999999,
          1.612,
          1.6139999999999999,
          1.616,
          1.6179999999999999,
          1.62,
          1.6219999999999999,
          1.624,
          1.626,
          1.6280000000000001,
          1.63,
          1.6320000000000001,
          1.634,
          1.6360000000000001,
          1.638,
          1.6400000000000001,
          1.642,
          1.6440000000000001,
          1.646,
          1.6480000000000001,
          1.65,
          1.6520000000000001,
          1.654,
          1.6560000000000001,
          1.658,
          1.6600000000000001,
          1.662,
          1.6640000000000001,
          1.666,
          1.6680000000000001,
          1.67,
          1.6720000000000002,
          1.674,
          1.6760000000000002,
          1.678,
          1.6800000000000002,
          1.682,
          1.6840000000000002,
          1.686,
          1.688,
          1.69,
          1.692,
          1.694,
          1.696,
          1.698,
          1.7,
          1.702,
          1.704,
          1.706,
          1.708,
          1.71,
          1.712,
          1.714,
          1.716,
          1.718,
          1.72,
          1.722,
          1.724,
          1.726,
          1.728,
          1.73,
          1.732,
          1.734,
          1.736,
          1.738,
          1.74,
          1.742,
          1.744,
          1.746,
          1.748,
          1.75,
          1.752,
          1.754,
          1.756,
          1.758,
          1.76,
          1.762,
          1.764,
          1.766,
          1.768,
          1.77,
          1.772,
          1.774,
          1.776,
          1.778,
          1.78,
          1.782,
          1.784,
          1.786,
          1.788,
          1.79,
          1.792,
          1.794,
          1.796,
          1.798,
          1.8,
          1.802,
          1.804,
          1.806,
          1.808,
          1.81,
          1.812,
          1.814,
          1.8159999999999998,
          1.818,
          1.8199999999999998,
          1.822,
          1.8239999999999998,
          1.826,
          1.8279999999999998,
          1.83,
          1.8319999999999999,
          1.834,
          1.8359999999999999,
          1.838,
          1.8399999999999999,
          1.842,
          1.8439999999999999,
          1.846,
          1.8479999999999999,
          1.85,
          1.8519999999999999,
          1.854,
          1.8559999999999999,
          1.858,
          1.8599999999999999,
          1.862,
          1.8639999999999999,
          1.866,
          1.8679999999999999,
          1.87,
          1.8719999999999999,
          1.874,
          1.876,
          1.8780000000000001,
          1.88,
          1.8820000000000001,
          1.884,
          1.8860000000000001,
          1.888,
          1.8900000000000001,
          1.892,
          1.8940000000000001,
          1.896,
          1.8980000000000001,
          1.9,
          1.9020000000000001,
          1.904,
          1.9060000000000001,
          1.908,
          1.9100000000000001,
          1.912,
          1.9140000000000001,
          1.916,
          1.9180000000000001,
          1.92,
          1.9220000000000002,
          1.924,
          1.9260000000000002,
          1.928,
          1.9300000000000002,
          1.932,
          1.9340000000000002,
          1.936,
          1.938,
          1.94,
          1.942,
          1.944,
          1.946,
          1.948,
          1.95,
          1.952,
          1.954,
          1.956,
          1.958,
          1.96,
          1.962,
          1.964,
          1.966,
          1.968,
          1.97,
          1.972,
          1.974,
          1.976,
          1.978,
          1.98,
          1.982,
          1.984,
          1.986,
          1.988,
          1.99,
          1.992,
          1.994,
          1.996,
          1.998
         ],
         "xaxis": "x",
         "y": {
          "bdata": "BKIQB7lm2T9NHYmSFWjZP0IgOsEyadk/9o/ltxBq2T9/KRyer2rZP9pAPp4Pa9k/kV185TBr2T/YtdejE2vZP6KHIgy4atk/s08AVB5q2T/Z3uWzRmnZPy5NGWcxaNk/M8uxq95m2T8HUZfCTmXZP6Mrgu+BY9k/EWj6eHhh2T+gHFeoMl/ZP0aQvcmwXNk/CUAgLPNZ2T+Dwj0h+lbZP8aJn/3FU9k/S4OYGFdQ2T9olkPMrUzZP/oAgnXKSNk/xZL5c61E2T9IxxIqV0DZPy2+9vzHO9k/uRKNVAA32T/qkXmbADLZP73PGT/JLNk/k5uCr1on2T/KU31ftSHZP94YhcTZG9k/DODDVsgV2T+mZQ+RgQ/ZP3L/5fAFCdk/2k5r9lUC2T+Z02QkcvvYP4teNgBb9Ng/cmXeERHt2D8QN/LjlOXYP7wQmgPn3dg/rRSNAAjW2D89Ig1t+M3YPyqP4t24xdg/QcNX6km92D/NtTQsrLTYP1NNuj/gq9g/GKKdw+ai2D8lIwNZwJnYP6SeeaNtkNg/Ly31SO+G2D8WAcrxRX3YPxUZp0hyc9g/cNeQ+nRp2D8xfdu2Tl/YPyWKJS8AVdg/zAFSF4pK2D9flYIl7T/YP32zERIqNdg/bH2Ml0Eq2D+0oqxyNB/YP9EiUmIDFNg/zfV8J68I2D+6m0aFOP3XP5CT20Cg8dc/irl0Iefl1z+MjVDwDdrXP7phrHgVztc/rnG9h/7B1z904qnsybXXP+2rgXh4qdc/mWs3/gqd1z9AIZlSgpDXP/zVSEzfg9c/ky21wyJ31z/b4hGTTWrXP1AvUJZgXdc/Hx4Xq1xQ1z89y7uwQkPXP56OOYgTNtc/DRQqFNAo1z/rX704eRvXPzzBsdsPDtc/SrFL5JQA1z9FoU07CfPWPym278pt5dY/WXPXfsPX1j8qVA9EC8rWP+FU/ghGvNY/UGtfvXSu1j+H7zhSmKDWP+3007mxktY/H5Sz58GE1j/MJYzQyXbWPy9vOmrKaNY/KsC6q8Ra1j+eAyCNuUzWPzvCigeqPtY/FhggFZcw1j+AnQCxgSLWP1BDP9dqFNY/KCPYhFMG1j+8Q6e3PPjVP+JRX24n6tU/Tk6AqBTc1T+uME5mBc7VP0aAx6j6v9U/cuKbcfWx1T9snyLD9qPVP6IdUaD/ldU/5FOxDBGI1T/qMlgMLHrVP00G3KNRbNU/c81K2IJe1T+2jCCvwFDVPwCXPS4MQ9U/W9DcW2Y11T+s6Yk+0CfVP9GVF91KGtU/uLiVPtcM1T+GkEdqdv/UPyHZmWcp8tQ/nuoYPvHk1D+i0mb1ztfUPyZpMZXDytQ//mAoJdC91D9BVPOs9bDUPwXNJzQ1pNQ/tko/wo+X1D8+RI1eBovUP2snNRCaftQ/w1Ug3kty1D8YH/TOHGbUPzC6B+kNWtQ/xDtaMiBO1D8PjIiwVELUP1xbw2isNtQ/qxXFXygr1D/u1ceZyR/UP9xYexqRFNQ/6e/65H8J1D+HdMP7lv7TP+I7qWDX89M/iwvOFELp0z87D5cY2N7TP+bPomua1NM/hSy/DIrK0z/CVN/5p8DTP8zFETD1ttM/nkl2q3Kt0z/1+DNnIaTTPy5Ab10Cm9M/g+c/hxaS0z90HqfcXonTPziLhVTcgNM/7l2R5I940z8maEyBenDTP844+h2daNM/8TyWrPhg0z9W5ckdjlnTP23R4mBeUtM/pv/IY2pL0z+UA/USs0TTP+pBZlk5PtM/xzKZIP430z9xqn1QAjLTP7kobc9GLNM/ZC8hgswm0z+2n6lLlCHTP3AfYw2fHNM/ioXtpu0X0z/ATiL2gBPTP1QaC9dZD9M/WS/YI3kL0z9uCte03wfTP4z0aGCOBNM/6KL5+oUB0z8z4PVWx/7SP5Q/wkRT/NI/dtmxkir60j9bEv0MTvjSP1tsuH2+9tI/6mLLrHz10j/GUedfifTSP9pmflrl89I/kJ+6XZHz0j/K0XQojvPSP7TAK3fc89I/uT37A3300j/iVZOGcPXSP9iLL7S39tI/yR6OP1P40j+KXufYQ/rSPwoN5S2K/NI/ls2Z6Sb/0j/yoXi0GgLTP9J1TDRmBdM/lrgvDAoJ0z8aBoTcBg3TPzXe6UJdEdM/z2s42g0W0z9hW3U6GRvTP2rBzPh/INM/5RCJp0Im0z9hIgvWYSzTP5BLwhDeMtM/BIgk4bc50z8Ys6bN70DTP3bTtFmGSNM/bniqBXxQ0z+GKctO0VjTP3ToOq+GYdM/0MX2nZxq0z/miM2OE3TTP9ZqWPLrfdM/ZuXzNSaI0z/LlbjDwpLTP7UzdALCndM/BJ2iVSSp0z9R9mYd6rTTP8jghLYTwdM/hcVZeqHN0z/VNta+k9rTP6Vnd9bq59M/hblAEKf10z92YbW3yAPUPwgk0hRQEtQ/0CgHbD0h1D/45TH+kDDUP74jlwhLQNQ/xhjdxGtQ1D8VnwVp82DUP22CaCficdQ/L+itLjiD1D8o0cip9ZTUP7W18b8ap9Q/fzyhlKe51D8sDItHnMzUP4S4mPT439Q/NMvks73z1D+j6LWZ6gfVPzsRerZ/HNU/hP/BFn0x1T9GozzD4kbVP2O6ssCwXNU/VIcCEOdy1T8lphuuhYnVP+L/+pOMoNU/EN2mtvu31T+GFysH08/VPwhslXIS6NU/yuvx4bkA1j+5jkc6yRnWP1jmlFxAM9Y/8PHMJR9N1j9WFNRuZWfWP5QrfQwTgtY/9sqGzyed1j+/l5iEo7jWP+jIQPSF1NY/ZMrx4s7w1j8JBAARfg3XP8vEnzqTKtc/YVLjFw5I1z/iHblc7mXXP5Md6rgzhNc/YEwY2N2i1z88T71h7MHXP/BAKfle4dc/haSBPTUB2D+0fsDJbiHYP8eWszQLQtg/Od/7EApj2D9FBg3taoTYPxIvLVMtptg/eNN0yVDI2D/5zs7R1OrYP/2S+Om4Ddk/+ISCi/ww2T+BhtArn1TZP9ynGjygeNk/IQVuKf+c2T+Dzq1cu8HZP7x7lDrU5tk/PCu1I0kM2j8kLX10GTLaP1+6NYVEWNo/e9gFqsl+2j/PafQyqKXaPx5r6mvfzNo/AF61nG702j9g4QkJVRzbPxR3hvCRRNs/Uni2jiRt2z9vNxUbDJbbPxlREclHv9s/TysQyNbo2z8ipHFDuBLcP9zuk2LrPNw/FqHXSG9n3D+q7qMVQ5LcPyYWa+Rlvdw/GPyuzNbo3D9y9wXilBTdPxbNHzSfQN0/otzKzvRs3T/AfPm5lJndP/uIx/l9xt0/WB+Ajq/z3T+Pj6N0KCHeP1567aTnTt4/jCJbFOx83j9I7jG0NKveP0gaBnLA2d4/XJ3BN44I3z/SPavrnDffP5zXbXDrZt8/89MfpXiW3z/30UplQ8bfP8aA84hK9t8/TtVQckYT4D+NOLSkhCvgP1Jdd0LfQ+A/lOi7sFVc4D+MGPZS53TgPyxF8YqTjeA/anjUuFmm4D9qHyc7Ob/gP3/T1W4x2OA/zjs3r0Hx4D+UBhFWaQrhPxH7nLunI+E/0SKONvw84T9cCxYcZlbhPzEf6r/kb+E/3BZJdHeJ4T8igQCKHaPhPwdjclDWvOE/r+6aFaHW4T/MURYmffDhP6aaJs1pCuI/W7S5VGYk4j9meW8Fcj7iPxrdnyaMWOI/CCth/rNy4j/OXI7R6IziP8aFzeMpp+I/e1SWd3bB4j+uqTjOzdviP59E4ycv9uI/nYSqw5kQ4z9SP4/fDCvjP8yrhbiHReM/72F8iglg4z8HbmOQkXrjP094MwQfleM/DwD1HrGv4z8fqscYR8rjP32i6Sjg5OM/sRC/hXv/4z+untlkGBrkP+wRAPu1NOQ/XvY1fFNP5D8AW8Mb8GnkP6WfPAyLhOQ/qlOKfyOf5D9BJfGmuLnkP/rgGbNJ1OQ/JoEZ1NXu5D/ATHk5XAnlP4gFPxLcI+U/1CT1jFQ+5T/TJrPXxFjlP9TjJSAsc+U/IPeXk4mN5T8SM/pe3KflPwYi7K4jwuU/pZPEr17c5T8lNpqNjPblPyk7THSsEOY/tQeLj70q5j/J7uAKv0TmP0r2uhGwXuY/saVxz4945j/63VFvXZLmP5q6pRwYrOY/xnq9Ar/F5j+ZcvhMUd/mP90DzibO+OY/rZ3WuzQS5z+KwtQ3hCvnP6QUvsa7ROc/YWfElNpd5z8h1l7O33bnP1jfUqDKj+c/uIO9N5qo5z/JaBzCTcHnP4r+Vm3k2ec/Z6fHZ13y5z8k4kTgtwroPzN1KgbzIug/0ZpiCQ476D92LW8aCFPoPyHUcmrgaug/sC06K5aC6D8p+0SPKJroP+ZHz8mWseg/f4/aDuDI6D/B4DaTA+DoP/L8i4wA9+g/WXNiMdYN6T+ytyy5gyTpP+4zUFwIO+k/zFMuVGNR6T9kii3bk2fpP7tQwiyZfek/5hx4hXKT6T8yUfoiH6npP8oiHUSevuk/EXfmKO/T6T+Yt5YSEenpP3absUMD/uk/J+YGAMUS6j+zGruMVSfqP0YjUDC0O+o/3eutMuBP6j9G8Crd2GPqPxy8lHqdd+o//Fw4Vy2L6j+ixerAh57qPwAiEQesseo/PhupepnE6j+dC1FuT9fqPxUhUDbN6eo/126eKBL86j9Z7OycHQ7rP01irezuH+s/+kMac4Ux6z94dT6N4ELrP0P9/Jn/U+s/mKEY+uFk6z8tcDsQh3XrP5Mw/kDuhes/CcDv8haW6z/ZVpyOAKbrPzW2lH6qtes/oj51LxTF6z/X7ewPPdTrPyRExJAk4+s/jBDkJMrx6z86I1xBLQDsP8HlaV1NDuw/5dh+8ikc7D8090Z8winsPyj8rngWN+w/XY/qZyVE7D9hU3rM7lDsP5bXMStyXew/E209C69p7D+Y3Sf2pHXsP7QE4HdTgew/KUq+HrqM7D/N/Yl72JfsP9mTfiGuouw/6sFQpjqt7D+2ezOifbfsP6zP3K92wew/u6KKbCXL7D8xSwd4idTsPwsKrnSi3ew/zmJvB3Dm7D8lUdXX8e7sP2RcB5An9+w/SIjO3BD/7D/oIpltrQbtP2BvfvT8De0/JS1CJv8U7T+k+1e6sxvtP9iZ5moaIu0/wgHL9DIo7T9zX5sX/S3tP3rjqZV4M+0/Z3AHNKU47T9gI4a6gj3tP2a3u/MQQu0/RMMDrU9G7T/g0YG2PkrtP9tUI+PdTe0/W3GhCC1R7T/KpoL/K1TtP3RPHKPaVu0/+fqT0ThZ7T9oouBrRlvtP961y1UDXe0/vQPydW9e7T9BecS1il/tP4K8iAFVYO0/xZ9ZSM5g7T8bbid89mDtPw==",
          "dtype": "f8"
         },
         "yaxis": "y"
        },
        {
         "legendgroup": "quantity",
         "marker": {
          "color": "rgb(31, 119, 180)",
          "symbol": "line-ns-open"
         },
         "mode": "markers",
         "name": "quantity",
         "showlegend": false,
         "type": "scatter",
         "x": {
          "bdata": "AgEBAgICAQICAg==",
          "dtype": "i1"
         },
         "xaxis": "x",
         "y": [
          "quantity",
          "quantity",
          "quantity",
          "quantity",
          "quantity",
          "quantity",
          "quantity",
          "quantity",
          "quantity",
          "quantity"
         ],
         "yaxis": "y2"
        }
       ],
       "layout": {
        "barmode": "overlay",
        "hovermode": "closest",
        "legend": {
         "traceorder": "reversed"
        },
        "template": {
         "data": {
          "bar": [
           {
            "error_x": {
             "color": "#2a3f5f"
            },
            "error_y": {
             "color": "#2a3f5f"
            },
            "marker": {
             "line": {
              "color": "#E5ECF6",
              "width": 0.5
             },
             "pattern": {
              "fillmode": "overlay",
              "size": 10,
              "solidity": 0.2
             }
            },
            "type": "bar"
           }
          ],
          "barpolar": [
           {
            "marker": {
             "line": {
              "color": "#E5ECF6",
              "width": 0.5
             },
             "pattern": {
              "fillmode": "overlay",
              "size": 10,
              "solidity": 0.2
             }
            },
            "type": "barpolar"
           }
          ],
          "carpet": [
           {
            "aaxis": {
             "endlinecolor": "#2a3f5f",
             "gridcolor": "white",
             "linecolor": "white",
             "minorgridcolor": "white",
             "startlinecolor": "#2a3f5f"
            },
            "baxis": {
             "endlinecolor": "#2a3f5f",
             "gridcolor": "white",
             "linecolor": "white",
             "minorgridcolor": "white",
             "startlinecolor": "#2a3f5f"
            },
            "type": "carpet"
           }
          ],
          "choropleth": [
           {
            "colorbar": {
             "outlinewidth": 0,
             "ticks": ""
            },
            "type": "choropleth"
           }
          ],
          "contour": [
           {
            "colorbar": {
             "outlinewidth": 0,
             "ticks": ""
            },
            "colorscale": [
             [
              0,
              "#0d0887"
             ],
             [
              0.1111111111111111,
              "#46039f"
             ],
             [
              0.2222222222222222,
              "#7201a8"
             ],
             [
              0.3333333333333333,
              "#9c179e"
             ],
             [
              0.4444444444444444,
              "#bd3786"
             ],
             [
              0.5555555555555556,
              "#d8576b"
             ],
             [
              0.6666666666666666,
              "#ed7953"
             ],
             [
              0.7777777777777778,
              "#fb9f3a"
             ],
             [
              0.8888888888888888,
              "#fdca26"
             ],
             [
              1,
              "#f0f921"
             ]
            ],
            "type": "contour"
           }
          ],
          "contourcarpet": [
           {
            "colorbar": {
             "outlinewidth": 0,
             "ticks": ""
            },
            "type": "contourcarpet"
           }
          ],
          "heatmap": [
           {
            "colorbar": {
             "outlinewidth": 0,
             "ticks": ""
            },
            "colorscale": [
             [
              0,
              "#0d0887"
             ],
             [
              0.1111111111111111,
              "#46039f"
             ],
             [
              0.2222222222222222,
              "#7201a8"
             ],
             [
              0.3333333333333333,
              "#9c179e"
             ],
             [
              0.4444444444444444,
              "#bd3786"
             ],
             [
              0.5555555555555556,
              "#d8576b"
             ],
             [
              0.6666666666666666,
              "#ed7953"
             ],
             [
              0.7777777777777778,
              "#fb9f3a"
             ],
             [
              0.8888888888888888,
              "#fdca26"
             ],
             [
              1,
              "#f0f921"
             ]
            ],
            "type": "heatmap"
           }
          ],
          "histogram": [
           {
            "marker": {
             "pattern": {
              "fillmode": "overlay",
              "size": 10,
              "solidity": 0.2
             }
            },
            "type": "histogram"
           }
          ],
          "histogram2d": [
           {
            "colorbar": {
             "outlinewidth": 0,
             "ticks": ""
            },
            "colorscale": [
             [
              0,
              "#0d0887"
             ],
             [
              0.1111111111111111,
              "#46039f"
             ],
             [
              0.2222222222222222,
              "#7201a8"
             ],
             [
              0.3333333333333333,
              "#9c179e"
             ],
             [
              0.4444444444444444,
              "#bd3786"
             ],
             [
              0.5555555555555556,
              "#d8576b"
             ],
             [
              0.6666666666666666,
              "#ed7953"
             ],
             [
              0.7777777777777778,
              "#fb9f3a"
             ],
             [
              0.8888888888888888,
              "#fdca26"
             ],
             [
              1,
              "#f0f921"
             ]
            ],
            "type": "histogram2d"
           }
          ],
          "histogram2dcontour": [
           {
            "colorbar": {
             "outlinewidth": 0,
             "ticks": ""
            },
            "colorscale": [
             [
              0,
              "#0d0887"
             ],
             [
              0.1111111111111111,
              "#46039f"
             ],
             [
              0.2222222222222222,
              "#7201a8"
             ],
             [
              0.3333333333333333,
              "#9c179e"
             ],
             [
              0.4444444444444444,
              "#bd3786"
             ],
             [
              0.5555555555555556,
              "#d8576b"
             ],
             [
              0.6666666666666666,
              "#ed7953"
             ],
             [
              0.7777777777777778,
              "#fb9f3a"
             ],
             [
              0.8888888888888888,
              "#fdca26"
             ],
             [
              1,
              "#f0f921"
             ]
            ],
            "type": "histogram2dcontour"
           }
          ],
          "mesh3d": [
           {
            "colorbar": {
             "outlinewidth": 0,
             "ticks": ""
            },
            "type": "mesh3d"
           }
          ],
          "parcoords": [
           {
            "line": {
             "colorbar": {
              "outlinewidth": 0,
              "ticks": ""
             }
            },
            "type": "parcoords"
           }
          ],
          "pie": [
           {
            "automargin": true,
            "type": "pie"
           }
          ],
          "scatter": [
           {
            "fillpattern": {
             "fillmode": "overlay",
             "size": 10,
             "solidity": 0.2
            },
            "type": "scatter"
           }
          ],
          "scatter3d": [
           {
            "line": {
             "colorbar": {
              "outlinewidth": 0,
              "ticks": ""
             }
            },
            "marker": {
             "colorbar": {
              "outlinewidth": 0,
              "ticks": ""
             }
            },
            "type": "scatter3d"
           }
          ],
          "scattercarpet": [
           {
            "marker": {
             "colorbar": {
              "outlinewidth": 0,
              "ticks": ""
             }
            },
            "type": "scattercarpet"
           }
          ],
          "scattergeo": [
           {
            "marker": {
             "colorbar": {
              "outlinewidth": 0,
              "ticks": ""
             }
            },
            "type": "scattergeo"
           }
          ],
          "scattergl": [
           {
            "marker": {
             "colorbar": {
              "outlinewidth": 0,
              "ticks": ""
             }
            },
            "type": "scattergl"
           }
          ],
          "scattermap": [
           {
            "marker": {
             "colorbar": {
              "outlinewidth": 0,
              "ticks": ""
             }
            },
            "type": "scattermap"
           }
          ],
          "scattermapbox": [
           {
            "marker": {
             "colorbar": {
              "outlinewidth": 0,
              "ticks": ""
             }
            },
            "type": "scattermapbox"
           }
          ],
          "scatterpolar": [
           {
            "marker": {
             "colorbar": {
              "outlinewidth": 0,
              "ticks": ""
             }
            },
            "type": "scatterpolar"
           }
          ],
          "scatterpolargl": [
           {
            "marker": {
             "colorbar": {
              "outlinewidth": 0,
              "ticks": ""
             }
            },
            "type": "scatterpolargl"
           }
          ],
          "scatterternary": [
           {
            "marker": {
             "colorbar": {
              "outlinewidth": 0,
              "ticks": ""
             }
            },
            "type": "scatterternary"
           }
          ],
          "surface": [
           {
            "colorbar": {
             "outlinewidth": 0,
             "ticks": ""
            },
            "colorscale": [
             [
              0,
              "#0d0887"
             ],
             [
              0.1111111111111111,
              "#46039f"
             ],
             [
              0.2222222222222222,
              "#7201a8"
             ],
             [
              0.3333333333333333,
              "#9c179e"
             ],
             [
              0.4444444444444444,
              "#bd3786"
             ],
             [
              0.5555555555555556,
              "#d8576b"
             ],
             [
              0.6666666666666666,
              "#ed7953"
             ],
             [
              0.7777777777777778,
              "#fb9f3a"
             ],
             [
              0.8888888888888888,
              "#fdca26"
             ],
             [
              1,
              "#f0f921"
             ]
            ],
            "type": "surface"
           }
          ],
          "table": [
           {
            "cells": {
             "fill": {
              "color": "#EBF0F8"
             },
             "line": {
              "color": "white"
             }
            },
            "header": {
             "fill": {
              "color": "#C8D4E3"
             },
             "line": {
              "color": "white"
             }
            },
            "type": "table"
           }
          ]
         },
         "layout": {
          "annotationdefaults": {
           "arrowcolor": "#2a3f5f",
           "arrowhead": 0,
           "arrowwidth": 1
          },
          "autotypenumbers": "strict",
          "coloraxis": {
           "colorbar": {
            "outlinewidth": 0,
            "ticks": ""
           }
          },
          "colorscale": {
           "diverging": [
            [
             0,
             "#8e0152"
            ],
            [
             0.1,
             "#c51b7d"
            ],
            [
             0.2,
             "#de77ae"
            ],
            [
             0.3,
             "#f1b6da"
            ],
            [
             0.4,
             "#fde0ef"
            ],
            [
             0.5,
             "#f7f7f7"
            ],
            [
             0.6,
             "#e6f5d0"
            ],
            [
             0.7,
             "#b8e186"
            ],
            [
             0.8,
             "#7fbc41"
            ],
            [
             0.9,
             "#4d9221"
            ],
            [
             1,
             "#276419"
            ]
           ],
           "sequential": [
            [
             0,
             "#0d0887"
            ],
            [
             0.1111111111111111,
             "#46039f"
            ],
            [
             0.2222222222222222,
             "#7201a8"
            ],
            [
             0.3333333333333333,
             "#9c179e"
            ],
            [
             0.4444444444444444,
             "#bd3786"
            ],
            [
             0.5555555555555556,
             "#d8576b"
            ],
            [
             0.6666666666666666,
             "#ed7953"
            ],
            [
             0.7777777777777778,
             "#fb9f3a"
            ],
            [
             0.8888888888888888,
             "#fdca26"
            ],
            [
             1,
             "#f0f921"
            ]
           ],
           "sequentialminus": [
            [
             0,
             "#0d0887"
            ],
            [
             0.1111111111111111,
             "#46039f"
            ],
            [
             0.2222222222222222,
             "#7201a8"
            ],
            [
             0.3333333333333333,
             "#9c179e"
            ],
            [
             0.4444444444444444,
             "#bd3786"
            ],
            [
             0.5555555555555556,
             "#d8576b"
            ],
            [
             0.6666666666666666,
             "#ed7953"
            ],
            [
             0.7777777777777778,
             "#fb9f3a"
            ],
            [
             0.8888888888888888,
             "#fdca26"
            ],
            [
             1,
             "#f0f921"
            ]
           ]
          },
          "colorway": [
           "#636efa",
           "#EF553B",
           "#00cc96",
           "#ab63fa",
           "#FFA15A",
           "#19d3f3",
           "#FF6692",
           "#B6E880",
           "#FF97FF",
           "#FECB52"
          ],
          "font": {
           "color": "#2a3f5f"
          },
          "geo": {
           "bgcolor": "white",
           "lakecolor": "white",
           "landcolor": "#E5ECF6",
           "showlakes": true,
           "showland": true,
           "subunitcolor": "white"
          },
          "hoverlabel": {
           "align": "left"
          },
          "hovermode": "closest",
          "mapbox": {
           "style": "light"
          },
          "paper_bgcolor": "white",
          "plot_bgcolor": "#E5ECF6",
          "polar": {
           "angularaxis": {
            "gridcolor": "white",
            "linecolor": "white",
            "ticks": ""
           },
           "bgcolor": "#E5ECF6",
           "radialaxis": {
            "gridcolor": "white",
            "linecolor": "white",
            "ticks": ""
           }
          },
          "scene": {
           "xaxis": {
            "backgroundcolor": "#E5ECF6",
            "gridcolor": "white",
            "gridwidth": 2,
            "linecolor": "white",
            "showbackground": true,
            "ticks": "",
            "zerolinecolor": "white"
           },
           "yaxis": {
            "backgroundcolor": "#E5ECF6",
            "gridcolor": "white",
            "gridwidth": 2,
            "linecolor": "white",
            "showbackground": true,
            "ticks": "",
            "zerolinecolor": "white"
           },
           "zaxis": {
            "backgroundcolor": "#E5ECF6",
            "gridcolor": "white",
            "gridwidth": 2,
            "linecolor": "white",
            "showbackground": true,
            "ticks": "",
            "zerolinecolor": "white"
           }
          },
          "shapedefaults": {
           "line": {
            "color": "#2a3f5f"
           }
          },
          "ternary": {
           "aaxis": {
            "gridcolor": "white",
            "linecolor": "white",
            "ticks": ""
           },
           "baxis": {
            "gridcolor": "white",
            "linecolor": "white",
            "ticks": ""
           },
           "bgcolor": "#E5ECF6",
           "caxis": {
            "gridcolor": "white",
            "linecolor": "white",
            "ticks": ""
           }
          },
          "title": {
           "x": 0.05
          },
          "xaxis": {
           "automargin": true,
           "gridcolor": "white",
           "linecolor": "white",
           "ticks": "",
           "title": {
            "standoff": 15
           },
           "zerolinecolor": "white",
           "zerolinewidth": 2
          },
          "yaxis": {
           "automargin": true,
           "gridcolor": "white",
           "linecolor": "white",
           "ticks": "",
           "title": {
            "standoff": 15
           },
           "zerolinecolor": "white",
           "zerolinewidth": 2
          }
         }
        },
        "title": {
         "text": "quantity distribution (skewness=-1.04)"
        },
        "xaxis": {
         "anchor": "y2",
         "domain": [
          0,
          1
         ],
         "zeroline": false
        },
        "yaxis": {
         "anchor": "free",
         "domain": [
          0.35,
          1
         ],
         "position": 0
        },
        "yaxis2": {
         "anchor": "x",
         "domain": [
          0,
          0.25
         ],
         "dtick": 1,
         "showticklabels": false
        }
       }
      }
     },
     "metadata": {},
     "output_type": "display_data"
    },
    {
     "name": "stdout",
     "output_type": "stream",
     "text": [
      "Plot for 'unit_price':\n"
     ]
    },
    {
     "data": {
      "application/vnd.plotly.v1+json": {
       "config": {
        "plotlyServerURL": "https://plot.ly"
       },
       "data": [
        {
         "autobinx": false,
         "histnorm": "probability density",
         "legendgroup": "unit_price",
         "marker": {
          "color": "rgb(31, 119, 180)"
         },
         "name": "unit_price",
         "opacity": 0.7,
         "type": "histogram",
         "x": {
          "bdata": "AAAAAAAgjEAAAAAAAMByQAAAAAAAwIJAAAAAAADAckAAAAAAAMCCQAAAAAAAwIJAAAAAAADAgkAAAAAAAMCCQAAAAAAAwIJAAAAAAAAgjEA=",
          "dtype": "f8"
         },
         "xaxis": "x",
         "xbins": {
          "end": 900,
          "size": 1,
          "start": 300
         },
         "yaxis": "y"
        },
        {
         "legendgroup": "unit_price",
         "marker": {
          "color": "rgb(31, 119, 180)"
         },
         "mode": "lines",
         "name": "unit_price",
         "showlegend": false,
         "type": "scatter",
         "x": [
          300,
          301.2,
          302.4,
          303.6,
          304.8,
          306,
          307.2,
          308.4,
          309.6,
          310.8,
          312,
          313.2,
          314.4,
          315.6,
          316.8,
          318,
          319.2,
          320.4,
          321.6,
          322.8,
          324,
          325.2,
          326.4,
          327.6,
          328.8,
          330,
          331.2,
          332.4,
          333.6,
          334.8,
          336,
          337.2,
          338.4,
          339.6,
          340.8,
          342,
          343.2,
          344.4,
          345.6,
          346.8,
          348,
          349.2,
          350.4,
          351.6,
          352.8,
          354,
          355.2,
          356.4,
          357.6,
          358.8,
          360,
          361.2,
          362.4,
          363.6,
          364.8,
          366,
          367.2,
          368.4,
          369.6,
          370.8,
          372,
          373.2,
          374.4,
          375.6,
          376.8,
          378,
          379.2,
          380.4,
          381.6,
          382.8,
          384,
          385.2,
          386.4,
          387.6,
          388.8,
          390,
          391.2,
          392.4,
          393.6,
          394.8,
          396,
          397.2,
          398.4,
          399.6,
          400.8,
          402,
          403.2,
          404.4,
          405.6,
          406.8,
          408,
          409.2,
          410.4,
          411.6,
          412.8,
          414,
          415.2,
          416.4,
          417.6,
          418.8,
          420,
          421.2,
          422.4,
          423.6,
          424.8,
          426,
          427.2,
          428.4,
          429.6,
          430.8,
          432,
          433.2,
          434.4,
          435.6,
          436.8,
          438,
          439.2,
          440.4,
          441.6,
          442.8,
          444,
          445.2,
          446.4,
          447.6,
          448.8,
          450,
          451.2,
          452.4,
          453.6,
          454.8,
          456,
          457.2,
          458.4,
          459.6,
          460.8,
          462,
          463.2,
          464.4,
          465.6,
          466.8,
          468,
          469.2,
          470.4,
          471.6,
          472.8,
          474,
          475.2,
          476.4,
          477.6,
          478.8,
          480,
          481.2,
          482.4,
          483.6,
          484.8,
          486,
          487.2,
          488.4,
          489.6,
          490.8,
          492,
          493.2,
          494.4,
          495.6,
          496.8,
          498,
          499.2,
          500.4,
          501.6,
          502.8,
          504,
          505.2,
          506.4,
          507.6,
          508.8,
          510,
          511.2,
          512.4,
          513.6,
          514.8,
          516,
          517.2,
          518.4,
          519.6,
          520.8,
          522,
          523.2,
          524.4,
          525.6,
          526.8,
          528,
          529.2,
          530.4,
          531.6,
          532.8,
          534,
          535.2,
          536.4,
          537.6,
          538.8,
          540,
          541.2,
          542.4,
          543.6,
          544.8,
          546,
          547.2,
          548.4,
          549.6,
          550.8,
          552,
          553.2,
          554.4,
          555.6,
          556.8,
          558,
          559.2,
          560.4,
          561.6,
          562.8,
          564,
          565.2,
          566.4,
          567.6,
          568.8,
          570,
          571.2,
          572.4,
          573.6,
          574.8,
          576,
          577.2,
          578.4,
          579.6,
          580.8,
          582,
          583.2,
          584.4,
          585.6,
          586.8,
          588,
          589.2,
          590.4,
          591.6,
          592.8,
          594,
          595.2,
          596.4,
          597.6,
          598.8,
          600,
          601.2,
          602.4,
          603.6,
          604.8,
          606,
          607.2,
          608.4,
          609.6,
          610.8,
          612,
          613.2,
          614.4,
          615.6,
          616.8,
          618,
          619.2,
          620.4,
          621.6,
          622.8,
          624,
          625.2,
          626.4,
          627.6,
          628.8,
          630,
          631.2,
          632.4,
          633.6,
          634.8,
          636,
          637.2,
          638.4,
          639.6,
          640.8,
          642,
          643.2,
          644.4,
          645.6,
          646.8,
          648,
          649.2,
          650.4,
          651.6,
          652.8,
          654,
          655.2,
          656.4,
          657.6,
          658.8,
          660,
          661.2,
          662.4,
          663.6,
          664.8,
          666,
          667.2,
          668.4,
          669.6,
          670.8,
          672,
          673.2,
          674.4,
          675.6,
          676.8,
          678,
          679.2,
          680.4,
          681.6,
          682.8,
          684,
          685.2,
          686.4,
          687.6,
          688.8,
          690,
          691.2,
          692.4,
          693.6,
          694.8,
          696,
          697.2,
          698.4,
          699.6,
          700.8,
          702,
          703.2,
          704.4,
          705.6,
          706.8,
          708,
          709.2,
          710.4,
          711.6,
          712.8,
          714,
          715.2,
          716.4,
          717.6,
          718.8,
          720,
          721.2,
          722.4,
          723.6,
          724.8,
          726,
          727.2,
          728.4,
          729.6,
          730.8,
          732,
          733.2,
          734.4,
          735.6,
          736.8,
          738,
          739.2,
          740.4,
          741.6,
          742.8,
          744,
          745.2,
          746.4,
          747.6,
          748.8,
          750,
          751.2,
          752.4,
          753.6,
          754.8,
          756,
          757.2,
          758.4,
          759.6,
          760.8,
          762,
          763.2,
          764.4,
          765.6,
          766.8,
          768,
          769.2,
          770.4,
          771.6,
          772.8,
          774,
          775.2,
          776.4,
          777.6,
          778.8,
          780,
          781.2,
          782.4,
          783.6,
          784.8,
          786,
          787.2,
          788.4,
          789.6,
          790.8,
          792,
          793.2,
          794.4,
          795.6,
          796.8,
          798,
          799.2,
          800.4,
          801.6,
          802.8,
          804,
          805.2,
          806.4,
          807.6,
          808.8,
          810,
          811.2,
          812.4,
          813.6,
          814.8,
          816,
          817.2,
          818.4,
          819.6,
          820.8,
          822,
          823.2,
          824.4,
          825.6,
          826.8,
          828,
          829.2,
          830.4,
          831.6,
          832.8,
          834,
          835.2,
          836.4,
          837.6,
          838.8,
          840,
          841.2,
          842.4,
          843.6,
          844.8,
          846,
          847.2,
          848.4,
          849.6,
          850.8,
          852,
          853.2,
          854.4,
          855.6,
          856.8,
          858,
          859.2,
          860.4,
          861.6,
          862.8,
          864,
          865.2,
          866.4,
          867.6,
          868.8,
          870,
          871.2,
          872.4,
          873.6,
          874.8,
          876,
          877.2,
          878.4,
          879.6,
          880.8,
          882,
          883.2,
          884.4,
          885.6,
          886.8,
          888,
          889.2,
          890.4,
          891.6,
          892.8,
          894,
          895.2,
          896.4,
          897.6,
          898.8
         ],
         "xaxis": "x",
         "y": {
          "bdata": "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",
          "dtype": "f8"
         },
         "yaxis": "y"
        },
        {
         "legendgroup": "unit_price",
         "marker": {
          "color": "rgb(31, 119, 180)",
          "symbol": "line-ns-open"
         },
         "mode": "markers",
         "name": "unit_price",
         "showlegend": false,
         "type": "scatter",
         "x": {
          "bdata": "AAAAAAAgjEAAAAAAAMByQAAAAAAAwIJAAAAAAADAckAAAAAAAMCCQAAAAAAAwIJAAAAAAADAgkAAAAAAAMCCQAAAAAAAwIJAAAAAAAAgjEA=",
          "dtype": "f8"
         },
         "xaxis": "x",
         "y": [
          "unit_price",
          "unit_price",
          "unit_price",
          "unit_price",
          "unit_price",
          "unit_price",
          "unit_price",
          "unit_price",
          "unit_price",
          "unit_price"
         ],
         "yaxis": "y2"
        }
       ],
       "layout": {
        "barmode": "overlay",
        "hovermode": "closest",
        "legend": {
         "traceorder": "reversed"
        },
        "template": {
         "data": {
          "bar": [
           {
            "error_x": {
             "color": "#2a3f5f"
            },
            "error_y": {
             "color": "#2a3f5f"
            },
            "marker": {
             "line": {
              "color": "#E5ECF6",
              "width": 0.5
             },
             "pattern": {
              "fillmode": "overlay",
              "size": 10,
              "solidity": 0.2
             }
            },
            "type": "bar"
           }
          ],
          "barpolar": [
           {
            "marker": {
             "line": {
              "color": "#E5ECF6",
              "width": 0.5
             },
             "pattern": {
              "fillmode": "overlay",
              "size": 10,
              "solidity": 0.2
             }
            },
            "type": "barpolar"
           }
          ],
          "carpet": [
           {
            "aaxis": {
             "endlinecolor": "#2a3f5f",
             "gridcolor": "white",
             "linecolor": "white",
             "minorgridcolor": "white",
             "startlinecolor": "#2a3f5f"
            },
            "baxis": {
             "endlinecolor": "#2a3f5f",
             "gridcolor": "white",
             "linecolor": "white",
             "minorgridcolor": "white",
             "startlinecolor": "#2a3f5f"
            },
            "type": "carpet"
           }
          ],
          "choropleth": [
           {
            "colorbar": {
             "outlinewidth": 0,
             "ticks": ""
            },
            "type": "choropleth"
           }
          ],
          "contour": [
           {
            "colorbar": {
             "outlinewidth": 0,
             "ticks": ""
            },
            "colorscale": [
             [
              0,
              "#0d0887"
             ],
             [
              0.1111111111111111,
              "#46039f"
             ],
             [
              0.2222222222222222,
              "#7201a8"
             ],
             [
              0.3333333333333333,
              "#9c179e"
             ],
             [
              0.4444444444444444,
              "#bd3786"
             ],
             [
              0.5555555555555556,
              "#d8576b"
             ],
             [
              0.6666666666666666,
              "#ed7953"
             ],
             [
              0.7777777777777778,
              "#fb9f3a"
             ],
             [
              0.8888888888888888,
              "#fdca26"
             ],
             [
              1,
              "#f0f921"
             ]
            ],
            "type": "contour"
           }
          ],
          "contourcarpet": [
           {
            "colorbar": {
             "outlinewidth": 0,
             "ticks": ""
            },
            "type": "contourcarpet"
           }
          ],
          "heatmap": [
           {
            "colorbar": {
             "outlinewidth": 0,
             "ticks": ""
            },
            "colorscale": [
             [
              0,
              "#0d0887"
             ],
             [
              0.1111111111111111,
              "#46039f"
             ],
             [
              0.2222222222222222,
              "#7201a8"
             ],
             [
              0.3333333333333333,
              "#9c179e"
             ],
             [
              0.4444444444444444,
              "#bd3786"
             ],
             [
              0.5555555555555556,
              "#d8576b"
             ],
             [
              0.6666666666666666,
              "#ed7953"
             ],
             [
              0.7777777777777778,
              "#fb9f3a"
             ],
             [
              0.8888888888888888,
              "#fdca26"
             ],
             [
              1,
              "#f0f921"
             ]
            ],
            "type": "heatmap"
           }
          ],
          "histogram": [
           {
            "marker": {
             "pattern": {
              "fillmode": "overlay",
              "size": 10,
              "solidity": 0.2
             }
            },
            "type": "histogram"
           }
          ],
          "histogram2d": [
           {
            "colorbar": {
             "outlinewidth": 0,
             "ticks": ""
            },
            "colorscale": [
             [
              0,
              "#0d0887"
             ],
             [
              0.1111111111111111,
              "#46039f"
             ],
             [
              0.2222222222222222,
              "#7201a8"
             ],
             [
              0.3333333333333333,
              "#9c179e"
             ],
             [
              0.4444444444444444,
              "#bd3786"
             ],
             [
              0.5555555555555556,
              "#d8576b"
             ],
             [
              0.6666666666666666,
              "#ed7953"
             ],
             [
              0.7777777777777778,
              "#fb9f3a"
             ],
             [
              0.8888888888888888,
              "#fdca26"
             ],
             [
              1,
              "#f0f921"
             ]
            ],
            "type": "histogram2d"
           }
          ],
          "histogram2dcontour": [
           {
            "colorbar": {
             "outlinewidth": 0,
             "ticks": ""
            },
            "colorscale": [
             [
              0,
              "#0d0887"
             ],
             [
              0.1111111111111111,
              "#46039f"
             ],
             [
              0.2222222222222222,
              "#7201a8"
             ],
             [
              0.3333333333333333,
              "#9c179e"
             ],
             [
              0.4444444444444444,
              "#bd3786"
             ],
             [
              0.5555555555555556,
              "#d8576b"
             ],
             [
              0.6666666666666666,
              "#ed7953"
             ],
             [
              0.7777777777777778,
              "#fb9f3a"
             ],
             [
              0.8888888888888888,
              "#fdca26"
             ],
             [
              1,
              "#f0f921"
             ]
            ],
            "type": "histogram2dcontour"
           }
          ],
          "mesh3d": [
           {
            "colorbar": {
             "outlinewidth": 0,
             "ticks": ""
            },
            "type": "mesh3d"
           }
          ],
          "parcoords": [
           {
            "line": {
             "colorbar": {
              "outlinewidth": 0,
              "ticks": ""
             }
            },
            "type": "parcoords"
           }
          ],
          "pie": [
           {
            "automargin": true,
            "type": "pie"
           }
          ],
          "scatter": [
           {
            "fillpattern": {
             "fillmode": "overlay",
             "size": 10,
             "solidity": 0.2
            },
            "type": "scatter"
           }
          ],
          "scatter3d": [
           {
            "line": {
             "colorbar": {
              "outlinewidth": 0,
              "ticks": ""
             }
            },
            "marker": {
             "colorbar": {
              "outlinewidth": 0,
              "ticks": ""
             }
            },
            "type": "scatter3d"
           }
          ],
          "scattercarpet": [
           {
            "marker": {
             "colorbar": {
              "outlinewidth": 0,
              "ticks": ""
             }
            },
            "type": "scattercarpet"
           }
          ],
          "scattergeo": [
           {
            "marker": {
             "colorbar": {
              "outlinewidth": 0,
              "ticks": ""
             }
            },
            "type": "scattergeo"
           }
          ],
          "scattergl": [
           {
            "marker": {
             "colorbar": {
              "outlinewidth": 0,
              "ticks": ""
             }
            },
            "type": "scattergl"
           }
          ],
          "scattermap": [
           {
            "marker": {
             "colorbar": {
              "outlinewidth": 0,
              "ticks": ""
             }
            },
            "type": "scattermap"
           }
          ],
          "scattermapbox": [
           {
            "marker": {
             "colorbar": {
              "outlinewidth": 0,
              "ticks": ""
             }
            },
            "type": "scattermapbox"
           }
          ],
          "scatterpolar": [
           {
            "marker": {
             "colorbar": {
              "outlinewidth": 0,
              "ticks": ""
             }
            },
            "type": "scatterpolar"
           }
          ],
          "scatterpolargl": [
           {
            "marker": {
             "colorbar": {
              "outlinewidth": 0,
              "ticks": ""
             }
            },
            "type": "scatterpolargl"
           }
          ],
          "scatterternary": [
           {
            "marker": {
             "colorbar": {
              "outlinewidth": 0,
              "ticks": ""
             }
            },
            "type": "scatterternary"
           }
          ],
          "surface": [
           {
            "colorbar": {
             "outlinewidth": 0,
             "ticks": ""
            },
            "colorscale": [
             [
              0,
              "#0d0887"
             ],
             [
              0.1111111111111111,
              "#46039f"
             ],
             [
              0.2222222222222222,
              "#7201a8"
             ],
             [
              0.3333333333333333,
              "#9c179e"
             ],
             [
              0.4444444444444444,
              "#bd3786"
             ],
             [
              0.5555555555555556,
              "#d8576b"
             ],
             [
              0.6666666666666666,
              "#ed7953"
             ],
             [
              0.7777777777777778,
              "#fb9f3a"
             ],
             [
              0.8888888888888888,
              "#fdca26"
             ],
             [
              1,
              "#f0f921"
             ]
            ],
            "type": "surface"
           }
          ],
          "table": [
           {
            "cells": {
             "fill": {
              "color": "#EBF0F8"
             },
             "line": {
              "color": "white"
             }
            },
            "header": {
             "fill": {
              "color": "#C8D4E3"
             },
             "line": {
              "color": "white"
             }
            },
            "type": "table"
           }
          ]
         },
         "layout": {
          "annotationdefaults": {
           "arrowcolor": "#2a3f5f",
           "arrowhead": 0,
           "arrowwidth": 1
          },
          "autotypenumbers": "strict",
          "coloraxis": {
           "colorbar": {
            "outlinewidth": 0,
            "ticks": ""
           }
          },
          "colorscale": {
           "diverging": [
            [
             0,
             "#8e0152"
            ],
            [
             0.1,
             "#c51b7d"
            ],
            [
             0.2,
             "#de77ae"
            ],
            [
             0.3,
             "#f1b6da"
            ],
            [
             0.4,
             "#fde0ef"
            ],
            [
             0.5,
             "#f7f7f7"
            ],
            [
             0.6,
             "#e6f5d0"
            ],
            [
             0.7,
             "#b8e186"
            ],
            [
             0.8,
             "#7fbc41"
            ],
            [
             0.9,
             "#4d9221"
            ],
            [
             1,
             "#276419"
            ]
           ],
           "sequential": [
            [
             0,
             "#0d0887"
            ],
            [
             0.1111111111111111,
             "#46039f"
            ],
            [
             0.2222222222222222,
             "#7201a8"
            ],
            [
             0.3333333333333333,
             "#9c179e"
            ],
            [
             0.4444444444444444,
             "#bd3786"
            ],
            [
             0.5555555555555556,
             "#d8576b"
            ],
            [
             0.6666666666666666,
             "#ed7953"
            ],
            [
             0.7777777777777778,
             "#fb9f3a"
            ],
            [
             0.8888888888888888,
             "#fdca26"
            ],
            [
             1,
             "#f0f921"
            ]
           ],
           "sequentialminus": [
            [
             0,
             "#0d0887"
            ],
            [
             0.1111111111111111,
             "#46039f"
            ],
            [
             0.2222222222222222,
             "#7201a8"
            ],
            [
             0.3333333333333333,
             "#9c179e"
            ],
            [
             0.4444444444444444,
             "#bd3786"
            ],
            [
             0.5555555555555556,
             "#d8576b"
            ],
            [
             0.6666666666666666,
             "#ed7953"
            ],
            [
             0.7777777777777778,
             "#fb9f3a"
            ],
            [
             0.8888888888888888,
             "#fdca26"
            ],
            [
             1,
             "#f0f921"
            ]
           ]
          },
          "colorway": [
           "#636efa",
           "#EF553B",
           "#00cc96",
           "#ab63fa",
           "#FFA15A",
           "#19d3f3",
           "#FF6692",
           "#B6E880",
           "#FF97FF",
           "#FECB52"
          ],
          "font": {
           "color": "#2a3f5f"
          },
          "geo": {
           "bgcolor": "white",
           "lakecolor": "white",
           "landcolor": "#E5ECF6",
           "showlakes": true,
           "showland": true,
           "subunitcolor": "white"
          },
          "hoverlabel": {
           "align": "left"
          },
          "hovermode": "closest",
          "mapbox": {
           "style": "light"
          },
          "paper_bgcolor": "white",
          "plot_bgcolor": "#E5ECF6",
          "polar": {
           "angularaxis": {
            "gridcolor": "white",
            "linecolor": "white",
            "ticks": ""
           },
           "bgcolor": "#E5ECF6",
           "radialaxis": {
            "gridcolor": "white",
            "linecolor": "white",
            "ticks": ""
           }
          },
          "scene": {
           "xaxis": {
            "backgroundcolor": "#E5ECF6",
            "gridcolor": "white",
            "gridwidth": 2,
            "linecolor": "white",
            "showbackground": true,
            "ticks": "",
            "zerolinecolor": "white"
           },
           "yaxis": {
            "backgroundcolor": "#E5ECF6",
            "gridcolor": "white",
            "gridwidth": 2,
            "linecolor": "white",
            "showbackground": true,
            "ticks": "",
            "zerolinecolor": "white"
           },
           "zaxis": {
            "backgroundcolor": "#E5ECF6",
            "gridcolor": "white",
            "gridwidth": 2,
            "linecolor": "white",
            "showbackground": true,
            "ticks": "",
            "zerolinecolor": "white"
           }
          },
          "shapedefaults": {
           "line": {
            "color": "#2a3f5f"
           }
          },
          "ternary": {
           "aaxis": {
            "gridcolor": "white",
            "linecolor": "white",
            "ticks": ""
           },
           "baxis": {
            "gridcolor": "white",
            "linecolor": "white",
            "ticks": ""
           },
           "bgcolor": "#E5ECF6",
           "caxis": {
            "gridcolor": "white",
            "linecolor": "white",
            "ticks": ""
           }
          },
          "title": {
           "x": 0.05
          },
          "xaxis": {
           "automargin": true,
           "gridcolor": "white",
           "linecolor": "white",
           "ticks": "",
           "title": {
            "standoff": 15
           },
           "zerolinecolor": "white",
           "zerolinewidth": 2
          },
          "yaxis": {
           "automargin": true,
           "gridcolor": "white",
           "linecolor": "white",
           "ticks": "",
           "title": {
            "standoff": 15
           },
           "zerolinecolor": "white",
           "zerolinewidth": 2
          }
         }
        },
        "title": {
         "text": "unit_price distribution (skewness=0.00)"
        },
        "xaxis": {
         "anchor": "y2",
         "domain": [
          0,
          1
         ],
         "zeroline": false
        },
        "yaxis": {
         "anchor": "free",
         "domain": [
          0.35,
          1
         ],
         "position": 0
        },
        "yaxis2": {
         "anchor": "x",
         "domain": [
          0,
          0.25
         ],
         "dtick": 1,
         "showticklabels": false
        }
       }
      }
     },
     "metadata": {},
     "output_type": "display_data"
    }
   ],
   "source": [
    "# Displaying the graphs showing the skewness\n",
    "for col, fig in dist_incremental_figs.items():\n",
    "    print(f\"Plot for '{col}':\")\n",
    "    fig.show()"
   ]
  },
  {
   "cell_type": "markdown",
   "id": "4cfd7e3a",
   "metadata": {},
   "source": [
    "After null values are handled:"
   ]
  },
  {
   "cell_type": "code",
   "execution_count": 26,
   "id": "c38bbee2",
   "metadata": {},
   "outputs": [
    {
     "name": "stdout",
     "output_type": "stream",
     "text": [
      "customer_name    0\n",
      "product          0\n",
      "quantity         0\n",
      "unit_price       0\n",
      "order_date       0\n",
      "region           0\n",
      "dtype: int64\n"
     ]
    }
   ],
   "source": [
    "# State after handling null values\n",
    "df_incremental_null_counts = df_incremental.isnull().sum()\n",
    "print(df_incremental_null_counts)"
   ]
  },
  {
   "cell_type": "markdown",
   "id": "baab5617",
   "metadata": {},
   "source": [
    "## Data Enrichment"
   ]
  },
  {
   "cell_type": "markdown",
   "id": "9002b425",
   "metadata": {},
   "source": [
    "Both the Raw Data and Incremental Data will have "
   ]
  },
  {
   "cell_type": "markdown",
   "id": "f8442638",
   "metadata": {},
   "source": [
    "### Data Type Conversion"
   ]
  },
  {
   "cell_type": "markdown",
   "id": "093503c8",
   "metadata": {},
   "source": [
    "Before the conversion:"
   ]
  },
  {
   "cell_type": "code",
   "execution_count": 27,
   "id": "22abbbe8",
   "metadata": {},
   "outputs": [
    {
     "data": {
      "text/html": [
       "<div>\n",
       "<style scoped>\n",
       "    .dataframe tbody tr th:only-of-type {\n",
       "        vertical-align: middle;\n",
       "    }\n",
       "\n",
       "    .dataframe tbody tr th {\n",
       "        vertical-align: top;\n",
       "    }\n",
       "\n",
       "    .dataframe thead th {\n",
       "        text-align: right;\n",
       "    }\n",
       "</style>\n",
       "<table border=\"1\" class=\"dataframe\">\n",
       "  <thead>\n",
       "    <tr style=\"text-align: right;\">\n",
       "      <th></th>\n",
       "      <th>customer_name</th>\n",
       "      <th>product</th>\n",
       "      <th>quantity</th>\n",
       "      <th>unit_price</th>\n",
       "      <th>order_date</th>\n",
       "      <th>region</th>\n",
       "    </tr>\n",
       "  </thead>\n",
       "  <tbody>\n",
       "    <tr>\n",
       "      <th>0</th>\n",
       "      <td>Diana</td>\n",
       "      <td>Tablet</td>\n",
       "      <td>2</td>\n",
       "      <td>500</td>\n",
       "      <td>2024-01-20</td>\n",
       "      <td>South</td>\n",
       "    </tr>\n",
       "    <tr>\n",
       "      <th>1</th>\n",
       "      <td>Eve</td>\n",
       "      <td>Laptop</td>\n",
       "      <td>2</td>\n",
       "      <td>500</td>\n",
       "      <td>2024-04-29</td>\n",
       "      <td>North</td>\n",
       "    </tr>\n",
       "  </tbody>\n",
       "</table>\n",
       "</div>"
      ],
      "text/plain": [
       "  customer_name product  quantity  unit_price  order_date region\n",
       "0         Diana  Tablet         2         500  2024-01-20  South\n",
       "1           Eve  Laptop         2         500  2024-04-29  North"
      ]
     },
     "execution_count": 27,
     "metadata": {},
     "output_type": "execute_result"
    }
   ],
   "source": [
    "# Displaying the initial dataframes\n",
    "df_full.head(2)"
   ]
  },
  {
   "cell_type": "code",
   "execution_count": 28,
   "id": "f234dd27",
   "metadata": {},
   "outputs": [
    {
     "data": {
      "text/html": [
       "<div>\n",
       "<style scoped>\n",
       "    .dataframe tbody tr th:only-of-type {\n",
       "        vertical-align: middle;\n",
       "    }\n",
       "\n",
       "    .dataframe tbody tr th {\n",
       "        vertical-align: top;\n",
       "    }\n",
       "\n",
       "    .dataframe thead th {\n",
       "        text-align: right;\n",
       "    }\n",
       "</style>\n",
       "<table border=\"1\" class=\"dataframe\">\n",
       "  <thead>\n",
       "    <tr style=\"text-align: right;\">\n",
       "      <th></th>\n",
       "      <th>customer_name</th>\n",
       "      <th>product</th>\n",
       "      <th>quantity</th>\n",
       "      <th>unit_price</th>\n",
       "      <th>order_date</th>\n",
       "      <th>region</th>\n",
       "    </tr>\n",
       "  </thead>\n",
       "  <tbody>\n",
       "    <tr>\n",
       "      <th>0</th>\n",
       "      <td>Alice</td>\n",
       "      <td>Laptop</td>\n",
       "      <td>2</td>\n",
       "      <td>900.0</td>\n",
       "      <td>2024-05-09</td>\n",
       "      <td>Central</td>\n",
       "    </tr>\n",
       "    <tr>\n",
       "      <th>1</th>\n",
       "      <td>Heidi</td>\n",
       "      <td>Laptop</td>\n",
       "      <td>1</td>\n",
       "      <td>300.0</td>\n",
       "      <td>2024-05-07</td>\n",
       "      <td>Central</td>\n",
       "    </tr>\n",
       "  </tbody>\n",
       "</table>\n",
       "</div>"
      ],
      "text/plain": [
       "  customer_name product  quantity  unit_price  order_date   region\n",
       "0         Alice  Laptop         2       900.0  2024-05-09  Central\n",
       "1         Heidi  Laptop         1       300.0  2024-05-07  Central"
      ]
     },
     "execution_count": 28,
     "metadata": {},
     "output_type": "execute_result"
    }
   ],
   "source": [
    "df_incremental.head(2)"
   ]
  },
  {
   "cell_type": "markdown",
   "id": "0d6a083c",
   "metadata": {},
   "source": [
    "The `order_date` column changed from datetime to text in the format of `<Date in Numbers> <Month in Words> <Year in Numbers>`. This format is human readable for ease of data analysis."
   ]
  },
  {
   "cell_type": "code",
   "execution_count": 29,
   "id": "0e3a069c",
   "metadata": {},
   "outputs": [],
   "source": [
    "# Converting the order_date column\n",
    "df_full = format_date_column(df_full, \"order_date\")\n",
    "df_incremental = format_date_column(df_incremental, \"order_date\")"
   ]
  },
  {
   "cell_type": "markdown",
   "id": "d2b3f2f1",
   "metadata": {},
   "source": [
    "After the conversion:"
   ]
  },
  {
   "cell_type": "code",
   "execution_count": 30,
   "id": "6bfb48fb",
   "metadata": {},
   "outputs": [
    {
     "data": {
      "text/html": [
       "<div>\n",
       "<style scoped>\n",
       "    .dataframe tbody tr th:only-of-type {\n",
       "        vertical-align: middle;\n",
       "    }\n",
       "\n",
       "    .dataframe tbody tr th {\n",
       "        vertical-align: top;\n",
       "    }\n",
       "\n",
       "    .dataframe thead th {\n",
       "        text-align: right;\n",
       "    }\n",
       "</style>\n",
       "<table border=\"1\" class=\"dataframe\">\n",
       "  <thead>\n",
       "    <tr style=\"text-align: right;\">\n",
       "      <th></th>\n",
       "      <th>customer_name</th>\n",
       "      <th>product</th>\n",
       "      <th>quantity</th>\n",
       "      <th>unit_price</th>\n",
       "      <th>order_date</th>\n",
       "      <th>region</th>\n",
       "    </tr>\n",
       "  </thead>\n",
       "  <tbody>\n",
       "    <tr>\n",
       "      <th>0</th>\n",
       "      <td>Diana</td>\n",
       "      <td>Tablet</td>\n",
       "      <td>2</td>\n",
       "      <td>500</td>\n",
       "      <td>20 January 2024</td>\n",
       "      <td>South</td>\n",
       "    </tr>\n",
       "    <tr>\n",
       "      <th>1</th>\n",
       "      <td>Eve</td>\n",
       "      <td>Laptop</td>\n",
       "      <td>2</td>\n",
       "      <td>500</td>\n",
       "      <td>29 April 2024</td>\n",
       "      <td>North</td>\n",
       "    </tr>\n",
       "  </tbody>\n",
       "</table>\n",
       "</div>"
      ],
      "text/plain": [
       "  customer_name product  quantity  unit_price       order_date region\n",
       "0         Diana  Tablet         2         500  20 January 2024  South\n",
       "1           Eve  Laptop         2         500    29 April 2024  North"
      ]
     },
     "execution_count": 30,
     "metadata": {},
     "output_type": "execute_result"
    }
   ],
   "source": [
    "# Displaying the enriched dataframe\n",
    "df_full.head(2)"
   ]
  },
  {
   "cell_type": "code",
   "execution_count": 31,
   "id": "a34ebd20",
   "metadata": {},
   "outputs": [
    {
     "data": {
      "text/html": [
       "<div>\n",
       "<style scoped>\n",
       "    .dataframe tbody tr th:only-of-type {\n",
       "        vertical-align: middle;\n",
       "    }\n",
       "\n",
       "    .dataframe tbody tr th {\n",
       "        vertical-align: top;\n",
       "    }\n",
       "\n",
       "    .dataframe thead th {\n",
       "        text-align: right;\n",
       "    }\n",
       "</style>\n",
       "<table border=\"1\" class=\"dataframe\">\n",
       "  <thead>\n",
       "    <tr style=\"text-align: right;\">\n",
       "      <th></th>\n",
       "      <th>customer_name</th>\n",
       "      <th>product</th>\n",
       "      <th>quantity</th>\n",
       "      <th>unit_price</th>\n",
       "      <th>order_date</th>\n",
       "      <th>region</th>\n",
       "    </tr>\n",
       "  </thead>\n",
       "  <tbody>\n",
       "    <tr>\n",
       "      <th>0</th>\n",
       "      <td>Alice</td>\n",
       "      <td>Laptop</td>\n",
       "      <td>2</td>\n",
       "      <td>900.0</td>\n",
       "      <td>09 May 2024</td>\n",
       "      <td>Central</td>\n",
       "    </tr>\n",
       "    <tr>\n",
       "      <th>1</th>\n",
       "      <td>Heidi</td>\n",
       "      <td>Laptop</td>\n",
       "      <td>1</td>\n",
       "      <td>300.0</td>\n",
       "      <td>07 May 2024</td>\n",
       "      <td>Central</td>\n",
       "    </tr>\n",
       "  </tbody>\n",
       "</table>\n",
       "</div>"
      ],
      "text/plain": [
       "  customer_name product  quantity  unit_price   order_date   region\n",
       "0         Alice  Laptop         2       900.0  09 May 2024  Central\n",
       "1         Heidi  Laptop         1       300.0  07 May 2024  Central"
      ]
     },
     "execution_count": 31,
     "metadata": {},
     "output_type": "execute_result"
    }
   ],
   "source": [
    "df_incremental.head(2)"
   ]
  },
  {
   "cell_type": "markdown",
   "id": "67262d13",
   "metadata": {},
   "source": [
    "### Summary Metrics"
   ]
  },
  {
   "cell_type": "markdown",
   "id": "9c9bb7a6",
   "metadata": {},
   "source": [
    "Before the summary metrics:"
   ]
  },
  {
   "cell_type": "code",
   "execution_count": 32,
   "id": "14d9d13c",
   "metadata": {},
   "outputs": [
    {
     "data": {
      "text/html": [
       "<div>\n",
       "<style scoped>\n",
       "    .dataframe tbody tr th:only-of-type {\n",
       "        vertical-align: middle;\n",
       "    }\n",
       "\n",
       "    .dataframe tbody tr th {\n",
       "        vertical-align: top;\n",
       "    }\n",
       "\n",
       "    .dataframe thead th {\n",
       "        text-align: right;\n",
       "    }\n",
       "</style>\n",
       "<table border=\"1\" class=\"dataframe\">\n",
       "  <thead>\n",
       "    <tr style=\"text-align: right;\">\n",
       "      <th></th>\n",
       "      <th>customer_name</th>\n",
       "      <th>product</th>\n",
       "      <th>quantity</th>\n",
       "      <th>unit_price</th>\n",
       "      <th>order_date</th>\n",
       "      <th>region</th>\n",
       "    </tr>\n",
       "  </thead>\n",
       "  <tbody>\n",
       "    <tr>\n",
       "      <th>0</th>\n",
       "      <td>Diana</td>\n",
       "      <td>Tablet</td>\n",
       "      <td>2</td>\n",
       "      <td>500</td>\n",
       "      <td>20 January 2024</td>\n",
       "      <td>South</td>\n",
       "    </tr>\n",
       "    <tr>\n",
       "      <th>1</th>\n",
       "      <td>Eve</td>\n",
       "      <td>Laptop</td>\n",
       "      <td>2</td>\n",
       "      <td>500</td>\n",
       "      <td>29 April 2024</td>\n",
       "      <td>North</td>\n",
       "    </tr>\n",
       "  </tbody>\n",
       "</table>\n",
       "</div>"
      ],
      "text/plain": [
       "  customer_name product  quantity  unit_price       order_date region\n",
       "0         Diana  Tablet         2         500  20 January 2024  South\n",
       "1           Eve  Laptop         2         500    29 April 2024  North"
      ]
     },
     "execution_count": 32,
     "metadata": {},
     "output_type": "execute_result"
    }
   ],
   "source": [
    "# Displaying the initial dataframes\n",
    "df_full.head(2)"
   ]
  },
  {
   "cell_type": "code",
   "execution_count": 33,
   "id": "87814a15",
   "metadata": {},
   "outputs": [
    {
     "data": {
      "text/html": [
       "<div>\n",
       "<style scoped>\n",
       "    .dataframe tbody tr th:only-of-type {\n",
       "        vertical-align: middle;\n",
       "    }\n",
       "\n",
       "    .dataframe tbody tr th {\n",
       "        vertical-align: top;\n",
       "    }\n",
       "\n",
       "    .dataframe thead th {\n",
       "        text-align: right;\n",
       "    }\n",
       "</style>\n",
       "<table border=\"1\" class=\"dataframe\">\n",
       "  <thead>\n",
       "    <tr style=\"text-align: right;\">\n",
       "      <th></th>\n",
       "      <th>customer_name</th>\n",
       "      <th>product</th>\n",
       "      <th>quantity</th>\n",
       "      <th>unit_price</th>\n",
       "      <th>order_date</th>\n",
       "      <th>region</th>\n",
       "    </tr>\n",
       "  </thead>\n",
       "  <tbody>\n",
       "    <tr>\n",
       "      <th>0</th>\n",
       "      <td>Alice</td>\n",
       "      <td>Laptop</td>\n",
       "      <td>2</td>\n",
       "      <td>900.0</td>\n",
       "      <td>09 May 2024</td>\n",
       "      <td>Central</td>\n",
       "    </tr>\n",
       "    <tr>\n",
       "      <th>1</th>\n",
       "      <td>Heidi</td>\n",
       "      <td>Laptop</td>\n",
       "      <td>1</td>\n",
       "      <td>300.0</td>\n",
       "      <td>07 May 2024</td>\n",
       "      <td>Central</td>\n",
       "    </tr>\n",
       "  </tbody>\n",
       "</table>\n",
       "</div>"
      ],
      "text/plain": [
       "  customer_name product  quantity  unit_price   order_date   region\n",
       "0         Alice  Laptop         2       900.0  09 May 2024  Central\n",
       "1         Heidi  Laptop         1       300.0  07 May 2024  Central"
      ]
     },
     "execution_count": 33,
     "metadata": {},
     "output_type": "execute_result"
    }
   ],
   "source": [
    "df_incremental.head(2)"
   ]
  },
  {
   "cell_type": "markdown",
   "id": "b1d8ef23",
   "metadata": {},
   "source": [
    "The `quantity` and `unit_price` columns are multiplied to create the `total_price` column. This column offers a summary statistic of the total amount in cost that a particular sale cost."
   ]
  },
  {
   "cell_type": "code",
   "execution_count": 34,
   "id": "8ca63a9c",
   "metadata": {},
   "outputs": [],
   "source": [
    "# Creating a total_price column formed by quantity * unit_price\n",
    "df_full['total_price'] = df_full['quantity'] * df_full['unit_price']\n",
    "df_incremental['total_price'] = df_incremental['quantity'] * df_incremental['unit_price']"
   ]
  },
  {
   "cell_type": "markdown",
   "id": "7717b9aa",
   "metadata": {},
   "source": [
    "After the summary metrics:"
   ]
  },
  {
   "cell_type": "code",
   "execution_count": 35,
   "id": "c85c5e60",
   "metadata": {},
   "outputs": [
    {
     "data": {
      "text/html": [
       "<div>\n",
       "<style scoped>\n",
       "    .dataframe tbody tr th:only-of-type {\n",
       "        vertical-align: middle;\n",
       "    }\n",
       "\n",
       "    .dataframe tbody tr th {\n",
       "        vertical-align: top;\n",
       "    }\n",
       "\n",
       "    .dataframe thead th {\n",
       "        text-align: right;\n",
       "    }\n",
       "</style>\n",
       "<table border=\"1\" class=\"dataframe\">\n",
       "  <thead>\n",
       "    <tr style=\"text-align: right;\">\n",
       "      <th></th>\n",
       "      <th>customer_name</th>\n",
       "      <th>product</th>\n",
       "      <th>quantity</th>\n",
       "      <th>unit_price</th>\n",
       "      <th>order_date</th>\n",
       "      <th>region</th>\n",
       "      <th>total_price</th>\n",
       "    </tr>\n",
       "  </thead>\n",
       "  <tbody>\n",
       "    <tr>\n",
       "      <th>0</th>\n",
       "      <td>Diana</td>\n",
       "      <td>Tablet</td>\n",
       "      <td>2</td>\n",
       "      <td>500</td>\n",
       "      <td>20 January 2024</td>\n",
       "      <td>South</td>\n",
       "      <td>1000</td>\n",
       "    </tr>\n",
       "    <tr>\n",
       "      <th>1</th>\n",
       "      <td>Eve</td>\n",
       "      <td>Laptop</td>\n",
       "      <td>2</td>\n",
       "      <td>500</td>\n",
       "      <td>29 April 2024</td>\n",
       "      <td>North</td>\n",
       "      <td>1000</td>\n",
       "    </tr>\n",
       "  </tbody>\n",
       "</table>\n",
       "</div>"
      ],
      "text/plain": [
       "  customer_name product  quantity  unit_price       order_date region  \\\n",
       "0         Diana  Tablet         2         500  20 January 2024  South   \n",
       "1           Eve  Laptop         2         500    29 April 2024  North   \n",
       "\n",
       "   total_price  \n",
       "0         1000  \n",
       "1         1000  "
      ]
     },
     "execution_count": 35,
     "metadata": {},
     "output_type": "execute_result"
    }
   ],
   "source": [
    "# Displaying the enriched dataframe\n",
    "df_full.head(2)"
   ]
  },
  {
   "cell_type": "code",
   "execution_count": 36,
   "id": "f422f4b2",
   "metadata": {},
   "outputs": [
    {
     "data": {
      "text/html": [
       "<div>\n",
       "<style scoped>\n",
       "    .dataframe tbody tr th:only-of-type {\n",
       "        vertical-align: middle;\n",
       "    }\n",
       "\n",
       "    .dataframe tbody tr th {\n",
       "        vertical-align: top;\n",
       "    }\n",
       "\n",
       "    .dataframe thead th {\n",
       "        text-align: right;\n",
       "    }\n",
       "</style>\n",
       "<table border=\"1\" class=\"dataframe\">\n",
       "  <thead>\n",
       "    <tr style=\"text-align: right;\">\n",
       "      <th></th>\n",
       "      <th>customer_name</th>\n",
       "      <th>product</th>\n",
       "      <th>quantity</th>\n",
       "      <th>unit_price</th>\n",
       "      <th>order_date</th>\n",
       "      <th>region</th>\n",
       "      <th>total_price</th>\n",
       "    </tr>\n",
       "  </thead>\n",
       "  <tbody>\n",
       "    <tr>\n",
       "      <th>0</th>\n",
       "      <td>Alice</td>\n",
       "      <td>Laptop</td>\n",
       "      <td>2</td>\n",
       "      <td>900.0</td>\n",
       "      <td>09 May 2024</td>\n",
       "      <td>Central</td>\n",
       "      <td>1800.0</td>\n",
       "    </tr>\n",
       "    <tr>\n",
       "      <th>1</th>\n",
       "      <td>Heidi</td>\n",
       "      <td>Laptop</td>\n",
       "      <td>1</td>\n",
       "      <td>300.0</td>\n",
       "      <td>07 May 2024</td>\n",
       "      <td>Central</td>\n",
       "      <td>300.0</td>\n",
       "    </tr>\n",
       "  </tbody>\n",
       "</table>\n",
       "</div>"
      ],
      "text/plain": [
       "  customer_name product  quantity  unit_price   order_date   region  \\\n",
       "0         Alice  Laptop         2       900.0  09 May 2024  Central   \n",
       "1         Heidi  Laptop         1       300.0  07 May 2024  Central   \n",
       "\n",
       "   total_price  \n",
       "0       1800.0  \n",
       "1        300.0  "
      ]
     },
     "execution_count": 36,
     "metadata": {},
     "output_type": "execute_result"
    }
   ],
   "source": [
    "df_incremental.head(2)"
   ]
  },
  {
   "cell_type": "markdown",
   "id": "2eda5cef",
   "metadata": {},
   "source": [
    "## Data Saving"
   ]
  },
  {
   "cell_type": "code",
   "execution_count": 37,
   "id": "208f2198",
   "metadata": {},
   "outputs": [],
   "source": [
    "# Saving the cleaned and enriched dataframes to the transformed folder\n",
    "save_to_csv(df_full, \"transformed/transformed_full.csv\")\n",
    "save_to_csv(df_incremental, \"transformed/transformed_incremental.csv\")"
   ]
  }
 ],
 "metadata": {
  "kernelspec": {
   "display_name": ".venv",
   "language": "python",
   "name": "python3"
  },
  "language_info": {
   "codemirror_mode": {
    "name": "ipython",
    "version": 3
   },
   "file_extension": ".py",
   "mimetype": "text/x-python",
   "name": "python",
   "nbconvert_exporter": "python",
   "pygments_lexer": "ipython3",
   "version": "3.12.3"
  }
 },
 "nbformat": 4,
 "nbformat_minor": 5
}
